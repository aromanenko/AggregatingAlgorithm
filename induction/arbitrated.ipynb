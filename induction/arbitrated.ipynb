{
 "cells": [
  {
   "cell_type": "markdown",
   "metadata": {},
   "source": [
    "Некоторые ячейки не запущены в силу больших затрат на проведение эксперимента и редактирования кода после этого, результат работы в файле с названием arbitrated_k.ipynb в данном каталоге. Реализованные композиции Adaptive selection и Adaptive combination находятся в файле realize_compositions.ipynb"
   ]
  },
  {
   "cell_type": "markdown",
   "metadata": {},
   "source": [
    "# Подготовка данных"
   ]
  },
  {
   "cell_type": "code",
   "execution_count": 1,
   "metadata": {},
   "outputs": [],
   "source": [
    "import numpy as np\n",
    "from datetime import datetime\n",
    "import matplotlib.pyplot as plt\n",
    "import pandas as pd\n",
    "import scipy.linalg as sc\n",
    "from sklearn import preprocessing\n",
    "from utils import qualityMACAPE, qualityRMSE\n",
    "from sklearn.ensemble import RandomForestRegressor\n",
    "from tqdm import tqdm_notebook\n",
    "from sklearn.utils.extmath import softmax\n",
    "import pickle\n",
    "\n",
    "%matplotlib inline\n",
    "np.random.seed(68)"
   ]
  },
  {
   "cell_type": "code",
   "execution_count": 2,
   "metadata": {},
   "outputs": [],
   "source": [
    "prod_feat = ['STORE_LOCATION_LVL_NM2', 'ST_LOC_DIVISION_NM', 'ST_LOC_MNGMT_CLSTR', 'PRODUCT_DESC']"
   ]
  },
  {
   "cell_type": "code",
   "execution_count": 3,
   "metadata": {},
   "outputs": [],
   "source": [
    "ts = pd.read_csv('./EGG_train.csv', encoding=\"cp1251\", sep=';', decimal=',', parse_dates=True, dayfirst=True)\n",
    "# parse dates\n",
    "ts['period_start_dt'] = [ datetime.strptime(date, '%d%b%Y').toordinal() for date in ts['period_start_dt'] ]\n",
    "ts = ts.sort_values(by=['PRODUCT_ID', 'STORE_LOCATION_ID', 'period_start_dt'])\n",
    "ts = ts.groupby(['PRODUCT_ID', 'STORE_LOCATION_ID']).agg(\n",
    "    lambda x: list(x)[0] if type(list(x)[0]) is str else list(x) )"
   ]
  },
  {
   "cell_type": "code",
   "execution_count": 4,
   "metadata": {
    "scrolled": true
   },
   "outputs": [
    {
     "data": {
      "text/html": [
       "<div>\n",
       "<style scoped>\n",
       "    .dataframe tbody tr th:only-of-type {\n",
       "        vertical-align: middle;\n",
       "    }\n",
       "\n",
       "    .dataframe tbody tr th {\n",
       "        vertical-align: top;\n",
       "    }\n",
       "\n",
       "    .dataframe thead th {\n",
       "        text-align: right;\n",
       "    }\n",
       "</style>\n",
       "<table border=\"1\" class=\"dataframe\">\n",
       "  <thead>\n",
       "    <tr style=\"text-align: right;\">\n",
       "      <th></th>\n",
       "      <th></th>\n",
       "      <th>period_start_dt</th>\n",
       "      <th>demand_qty</th>\n",
       "      <th>STORE_LOCATION_LVL_NM2</th>\n",
       "      <th>STORE_LOCATION_LVL_NM7</th>\n",
       "      <th>ST_LOC_DIVISION_NM</th>\n",
       "      <th>ST_LOC_MNGMT_CLSTR</th>\n",
       "      <th>PRODUCT_LVL_NM8</th>\n",
       "      <th>PRODUCT_LVL_NM13</th>\n",
       "      <th>PRODUCT_DESC</th>\n",
       "    </tr>\n",
       "    <tr>\n",
       "      <th>PRODUCT_ID</th>\n",
       "      <th>STORE_LOCATION_ID</th>\n",
       "      <th></th>\n",
       "      <th></th>\n",
       "      <th></th>\n",
       "      <th></th>\n",
       "      <th></th>\n",
       "      <th></th>\n",
       "      <th></th>\n",
       "      <th></th>\n",
       "      <th></th>\n",
       "    </tr>\n",
       "  </thead>\n",
       "  <tbody>\n",
       "    <tr>\n",
       "      <th rowspan=\"2\" valign=\"top\">475861</th>\n",
       "      <th>833805</th>\n",
       "      <td>[737045, 737046, 737047, 737048, 737049, 73705...</td>\n",
       "      <td>[5, 15, 3, 3, 4, 2, 2, 4, 4, 7, 13, 13, 13, 11...</td>\n",
       "      <td>59 ПЕРМСКИЙ КРАЙ</td>\n",
       "      <td>22_1119160 ЛЫСЬВА Г</td>\n",
       "      <td>UR</td>\n",
       "      <td>D_UR17</td>\n",
       "      <td>FR0607000 - Яйцо</td>\n",
       "      <td>42_FR0607001 - Яйцо куриное</td>\n",
       "      <td>ТЕНДЕР Яйца кур.С0 стол.фас.10шт</td>\n",
       "    </tr>\n",
       "    <tr>\n",
       "      <th>833807</th>\n",
       "      <td>[737045, 737046, 737047, 737048, 737049, 73705...</td>\n",
       "      <td>[40, 50, 36, 34, 55, 38, 35, 49, 36, 60, 58, 5...</td>\n",
       "      <td>72 ТЮМЕНСКАЯ ОБЛ</td>\n",
       "      <td>22_1180983 ТЮМЕНЬ Г</td>\n",
       "      <td>UR</td>\n",
       "      <td>D_UR29</td>\n",
       "      <td>FR0607000 - Яйцо</td>\n",
       "      <td>42_FR0607001 - Яйцо куриное</td>\n",
       "      <td>ТЕНДЕР Яйца кур.С0 стол.фас.10шт</td>\n",
       "    </tr>\n",
       "  </tbody>\n",
       "</table>\n",
       "</div>"
      ],
      "text/plain": [
       "                                                                period_start_dt  \\\n",
       "PRODUCT_ID STORE_LOCATION_ID                                                      \n",
       "475861     833805             [737045, 737046, 737047, 737048, 737049, 73705...   \n",
       "           833807             [737045, 737046, 737047, 737048, 737049, 73705...   \n",
       "\n",
       "                                                                     demand_qty  \\\n",
       "PRODUCT_ID STORE_LOCATION_ID                                                      \n",
       "475861     833805             [5, 15, 3, 3, 4, 2, 2, 4, 4, 7, 13, 13, 13, 11...   \n",
       "           833807             [40, 50, 36, 34, 55, 38, 35, 49, 36, 60, 58, 5...   \n",
       "\n",
       "                             STORE_LOCATION_LVL_NM2 STORE_LOCATION_LVL_NM7  \\\n",
       "PRODUCT_ID STORE_LOCATION_ID                                                 \n",
       "475861     833805                  59 ПЕРМСКИЙ КРАЙ    22_1119160 ЛЫСЬВА Г   \n",
       "           833807                  72 ТЮМЕНСКАЯ ОБЛ    22_1180983 ТЮМЕНЬ Г   \n",
       "\n",
       "                             ST_LOC_DIVISION_NM ST_LOC_MNGMT_CLSTR  \\\n",
       "PRODUCT_ID STORE_LOCATION_ID                                         \n",
       "475861     833805                            UR             D_UR17   \n",
       "           833807                            UR             D_UR29   \n",
       "\n",
       "                               PRODUCT_LVL_NM8             PRODUCT_LVL_NM13  \\\n",
       "PRODUCT_ID STORE_LOCATION_ID                                                  \n",
       "475861     833805             FR0607000 - Яйцо  42_FR0607001 - Яйцо куриное   \n",
       "           833807             FR0607000 - Яйцо  42_FR0607001 - Яйцо куриное   \n",
       "\n",
       "                                                  PRODUCT_DESC  \n",
       "PRODUCT_ID STORE_LOCATION_ID                                    \n",
       "475861     833805             ТЕНДЕР Яйца кур.С0 стол.фас.10шт  \n",
       "           833807             ТЕНДЕР Яйца кур.С0 стол.фас.10шт  "
      ]
     },
     "execution_count": 4,
     "metadata": {},
     "output_type": "execute_result"
    }
   ],
   "source": [
    "ts.iloc[:2]"
   ]
  },
  {
   "cell_type": "code",
   "execution_count": 5,
   "metadata": {},
   "outputs": [],
   "source": [
    "base_algs = pd.read_csv('./EGG_BA_FCST.csv', encoding=\"cp1251\", sep=';',\n",
    "                        decimal=',', parse_dates=True, dayfirst=True)\n",
    "# parse dates\n",
    "base_algs['dt'] = [ datetime.strptime(date, '%d%b%Y').toordinal() for date in base_algs['dt'] ]\n",
    "base_algs = base_algs.sort_values(by=['PRODUCT_LVL_ID', 'STORE_LOCATION_LVL_ID', 'dt']).groupby(\n",
    "    ['PRODUCT_LVL_ID', 'STORE_LOCATION_LVL_ID']).agg(lambda x: list(x))"
   ]
  },
  {
   "cell_type": "code",
   "execution_count": 6,
   "metadata": {
    "scrolled": true
   },
   "outputs": [
    {
     "data": {
      "text/html": [
       "<div>\n",
       "<style scoped>\n",
       "    .dataframe tbody tr th:only-of-type {\n",
       "        vertical-align: middle;\n",
       "    }\n",
       "\n",
       "    .dataframe tbody tr th {\n",
       "        vertical-align: top;\n",
       "    }\n",
       "\n",
       "    .dataframe thead th {\n",
       "        text-align: right;\n",
       "    }\n",
       "</style>\n",
       "<table border=\"1\" class=\"dataframe\">\n",
       "  <thead>\n",
       "    <tr style=\"text-align: right;\">\n",
       "      <th></th>\n",
       "      <th></th>\n",
       "      <th>FC_WK</th>\n",
       "      <th>dt</th>\n",
       "      <th>REGULAR</th>\n",
       "      <th>SAS_FAW</th>\n",
       "      <th>SAS_MINER</th>\n",
       "      <th>Horizon_Week</th>\n",
       "      <th>Horizon_day</th>\n",
       "    </tr>\n",
       "    <tr>\n",
       "      <th>PRODUCT_LVL_ID</th>\n",
       "      <th>STORE_LOCATION_LVL_ID</th>\n",
       "      <th></th>\n",
       "      <th></th>\n",
       "      <th></th>\n",
       "      <th></th>\n",
       "      <th></th>\n",
       "      <th></th>\n",
       "      <th></th>\n",
       "    </tr>\n",
       "  </thead>\n",
       "  <tbody>\n",
       "    <tr>\n",
       "      <th rowspan=\"2\" valign=\"top\">475861</th>\n",
       "      <th>833805</th>\n",
       "      <td>[17DEC2018, 17DEC2018, 17DEC2018, 17DEC2018, 1...</td>\n",
       "      <td>[737045, 737046, 737047, 737048, 737049, 73705...</td>\n",
       "      <td>[13.808, 14.767, 14.151, 14.225, 16.6, 14.393,...</td>\n",
       "      <td>[11.402, 14.406, 13.243, 12.417, 15.854, 15.62...</td>\n",
       "      <td>[14.043, 13.101, 13.042, 13.885, 15.022, 11.39...</td>\n",
       "      <td>[1, 1, 1, 1, 1, 1, 1, 1, 1, 1, 1, 1, 1, 1, 1, ...</td>\n",
       "      <td>[1, 2, 3, 4, 5, 6, 7, 1, 2, 3, 4, 5, 6, 7, 1, ...</td>\n",
       "    </tr>\n",
       "    <tr>\n",
       "      <th>833807</th>\n",
       "      <td>[17DEC2018, 17DEC2018, 17DEC2018, 17DEC2018, 1...</td>\n",
       "      <td>[737045, 737046, 737047, 737048, 737049, 73705...</td>\n",
       "      <td>[48.201, 47.105, 48.23, 45.698, 48.673, 45.587...</td>\n",
       "      <td>[46.673, 46.091, 49.205, 44.513, 51.553, 49.42...</td>\n",
       "      <td>[43.755, 42.337, 41.579, 41.251, 40.291, 36.73...</td>\n",
       "      <td>[1, 1, 1, 1, 1, 1, 1, 1, 1, 1, 1, 1, 1, 1, 1, ...</td>\n",
       "      <td>[1, 2, 3, 4, 5, 6, 7, 1, 2, 3, 4, 5, 6, 7, 1, ...</td>\n",
       "    </tr>\n",
       "  </tbody>\n",
       "</table>\n",
       "</div>"
      ],
      "text/plain": [
       "                                                                                  FC_WK  \\\n",
       "PRODUCT_LVL_ID STORE_LOCATION_LVL_ID                                                      \n",
       "475861         833805                 [17DEC2018, 17DEC2018, 17DEC2018, 17DEC2018, 1...   \n",
       "               833807                 [17DEC2018, 17DEC2018, 17DEC2018, 17DEC2018, 1...   \n",
       "\n",
       "                                                                                     dt  \\\n",
       "PRODUCT_LVL_ID STORE_LOCATION_LVL_ID                                                      \n",
       "475861         833805                 [737045, 737046, 737047, 737048, 737049, 73705...   \n",
       "               833807                 [737045, 737046, 737047, 737048, 737049, 73705...   \n",
       "\n",
       "                                                                                REGULAR  \\\n",
       "PRODUCT_LVL_ID STORE_LOCATION_LVL_ID                                                      \n",
       "475861         833805                 [13.808, 14.767, 14.151, 14.225, 16.6, 14.393,...   \n",
       "               833807                 [48.201, 47.105, 48.23, 45.698, 48.673, 45.587...   \n",
       "\n",
       "                                                                                SAS_FAW  \\\n",
       "PRODUCT_LVL_ID STORE_LOCATION_LVL_ID                                                      \n",
       "475861         833805                 [11.402, 14.406, 13.243, 12.417, 15.854, 15.62...   \n",
       "               833807                 [46.673, 46.091, 49.205, 44.513, 51.553, 49.42...   \n",
       "\n",
       "                                                                              SAS_MINER  \\\n",
       "PRODUCT_LVL_ID STORE_LOCATION_LVL_ID                                                      \n",
       "475861         833805                 [14.043, 13.101, 13.042, 13.885, 15.022, 11.39...   \n",
       "               833807                 [43.755, 42.337, 41.579, 41.251, 40.291, 36.73...   \n",
       "\n",
       "                                                                           Horizon_Week  \\\n",
       "PRODUCT_LVL_ID STORE_LOCATION_LVL_ID                                                      \n",
       "475861         833805                 [1, 1, 1, 1, 1, 1, 1, 1, 1, 1, 1, 1, 1, 1, 1, ...   \n",
       "               833807                 [1, 1, 1, 1, 1, 1, 1, 1, 1, 1, 1, 1, 1, 1, 1, ...   \n",
       "\n",
       "                                                                            Horizon_day  \n",
       "PRODUCT_LVL_ID STORE_LOCATION_LVL_ID                                                     \n",
       "475861         833805                 [1, 2, 3, 4, 5, 6, 7, 1, 2, 3, 4, 5, 6, 7, 1, ...  \n",
       "               833807                 [1, 2, 3, 4, 5, 6, 7, 1, 2, 3, 4, 5, 6, 7, 1, ...  "
      ]
     },
     "execution_count": 6,
     "metadata": {},
     "output_type": "execute_result"
    }
   ],
   "source": [
    "base_algs.iloc[:2]"
   ]
  },
  {
   "cell_type": "markdown",
   "metadata": {},
   "source": [
    "# Функция обучения ансамбля"
   ]
  },
  {
   "cell_type": "code",
   "execution_count": 7,
   "metadata": {},
   "outputs": [],
   "source": [
    "def arbitrated_composition(ts_df, base_algs, h, params ):\n",
    "    ''' Parameters:\n",
    "    ts <Pandas DataFrame> - data frame of time series with features (=prod_feat)\n",
    "    base_algs <Pandas DataFrame> - data frame of base algorithms answers\n",
    "    h <integer scalar> - forecasting delay\n",
    "    params <dict>\n",
    "        product_features - features of product (don't include demand, date)\n",
    "        base_algs_num - number of base algorithms\n",
    "        training_step - train every <training_step>'s time stamps\n",
    "        k - size of sample for meta-learner\n",
    "    '''\n",
    "    prod_feat = params['product_features']\n",
    "    base_algs_num = params['base_algs_num']\n",
    "    step = params['training_step']\n",
    "    k = params['k']\n",
    "    \n",
    "    ts = ts_df.copy()\n",
    "    min_date = min(list(map(min, ts['period_start_dt'])))\n",
    "    forecast = np.empty( (ts.shape[0], max(list(map(max, ts['period_start_dt']))) - min_date + 1 + h) )\n",
    "    forecast[:] = np.nan\n",
    "\n",
    "    for pf in prod_feat:\n",
    "        ts[pf] = preprocessing.LabelEncoder().fit_transform(ts[pf])\n",
    "    oh = [preprocessing.OneHotEncoder().fit( ts[pf].values.reshape(-1, 1) ) for pf in prod_feat]\n",
    "\n",
    "    X_train, Y_train = None, None\n",
    "    rf = [ RandomForestRegressor(random_state=20) for _ in range(base_algs_num) ]  # random forest\n",
    "    is_fitted = False\n",
    "    \n",
    "    print(f'Wait {len(ts)} iterations')\n",
    "    \n",
    "    for ts_n, ((pr_id, st_id), _) in tqdm_notebook(enumerate(ts.iterrows()) ):\n",
    "        ba = base_algs.loc[pr_id, st_id]\n",
    "        forecast_ba = np.empty( (base_algs_num, forecast.shape[1]), dtype=np.float )\n",
    "        forecast_ba[:] = np.nan\n",
    "        \n",
    "        for i, date in enumerate( ba['dt'] ):\n",
    "            if date - min_date >= forecast_ba.shape[1]:\n",
    "                break\n",
    "            forecast_ba[0, date - min_date] = ba['REGULAR'][i]\n",
    "            forecast_ba[1, date - min_date] = ba['SAS_FAW'][i]\n",
    "            forecast_ba[2, date - min_date] = ba['SAS_MINER'][i]\n",
    "        \n",
    "        time_ser = np.empty( forecast.shape[1], dtype=np.float )\n",
    "        time_ser[:] = np.nan\n",
    "        ts_x = ts.loc[pr_id, st_id]\n",
    "        for i, date in enumerate( ts_x['period_start_dt'] ):\n",
    "            time_ser[date - min_date] = ts_x['demand_qty'][i]\n",
    "        # 0 instead of nan\n",
    "        time_ser[np.isnan( time_ser )] = 0\n",
    "        \n",
    "        xx = sc.hankel( time_ser[:-(k-1)], [-1]+list(time_ser[-(k-1):]) )[:-h, :]\n",
    "        xx_f = np.hstack( [ (oh[j].transform([[ ts.loc[pr_id, st_id][prod_feat[j]] ]]) ).toarray()[0] \\\n",
    "                          for j in range(len(prod_feat)) ] )\n",
    "        xx = np.hstack( [xx, np.tile( xx_f.reshape(-1), (xx.shape[0], 1) ) ] )\n",
    "        \n",
    "        yy = np.vstack([ time_ser[k-1+h:] for i in range(base_algs_num) ])\n",
    "        yy = np.abs(forecast_ba[:, k-1+h: k-1+h + yy.shape[1]] - yy )\n",
    "        \n",
    "        yy_step_c = 0\n",
    "        for t in range( yy.shape[1] + k-1+h ):\n",
    "            if (t >= k-1+h) and is_fitted:\n",
    "                x_t = xx[t - (k-1+h)]\n",
    "                ans = [ rf[i].predict([x_t])[0] for i in range(len(rf)) ]\n",
    "                forecast[ts_n, t] = np.dot(softmax([ans])[0], forecast_ba[:, t])\n",
    "            if (t > k-1+h) and not np.isnan(yy[:, t-(k-1+h)]).any():\n",
    "                yy_step_c += 1\n",
    "            if (t > k-1+h) and (yy_step_c % step == 0):\n",
    "                for rf_i in range(len(rf)):\n",
    "                    if X_train is None:\n",
    "                        batch_x, batch_y = xx[:t-(k-1+h)], yy[rf_i, :t-(k-1+h)]\n",
    "                    else:\n",
    "                        batch_x = np.vstack( (X_train, xx[:t-(k-1+h)] ))\n",
    "                        batch_y = np.append(Y_train[rf_i, :], yy[rf_i, :t-(k-1+h)])\n",
    "                    if batch_y.shape[0] != 0:\n",
    "                        rf[rf_i] = RandomForestRegressor(random_state=20)\n",
    "                        rf[rf_i].fit( batch_x, batch_y )\n",
    "                        is_fitted = True\n",
    "        if X_train is None:\n",
    "            X_train, Y_train = xx, yy\n",
    "        else:\n",
    "            X_train, Y_train = np.vstack( (X_train, xx) ), np.hstack( (Y_train, yy) )\n",
    "    return forecast"
   ]
  },
  {
   "cell_type": "markdown",
   "metadata": {},
   "source": [
    "Код ниже демонстрирует, что \"заглядывания в будущее\" при онлайн обучении нет, поскольку на рядах разной длины результат одинаковый"
   ]
  },
  {
   "cell_type": "code",
   "execution_count": 8,
   "metadata": {},
   "outputs": [
    {
     "name": "stdout",
     "output_type": "stream",
     "text": [
      "Wait 1 iterations\n"
     ]
    },
    {
     "data": {
      "application/vnd.jupyter.widget-view+json": {
       "model_id": "e2a6e3564b3944eda888511f9a589aa1",
       "version_major": 2,
       "version_minor": 0
      },
      "text/html": [
       "<p>Failed to display Jupyter Widget of type <code>HBox</code>.</p>\n",
       "<p>\n",
       "  If you're reading this message in the Jupyter Notebook or JupyterLab Notebook, it may mean\n",
       "  that the widgets JavaScript is still loading. If this message persists, it\n",
       "  likely means that the widgets JavaScript library is either not installed or\n",
       "  not enabled. See the <a href=\"https://ipywidgets.readthedocs.io/en/stable/user_install.html\">Jupyter\n",
       "  Widgets Documentation</a> for setup instructions.\n",
       "</p>\n",
       "<p>\n",
       "  If you're reading this message in another frontend (for example, a static\n",
       "  rendering on GitHub or <a href=\"https://nbviewer.jupyter.org/\">NBViewer</a>),\n",
       "  it may mean that your frontend doesn't currently support widgets.\n",
       "</p>\n"
      ],
      "text/plain": [
       "HBox(children=(IntProgress(value=1, bar_style='info', max=1), HTML(value='')))"
      ]
     },
     "metadata": {},
     "output_type": "display_data"
    },
    {
     "name": "stdout",
     "output_type": "stream",
     "text": [
      "\n"
     ]
    }
   ],
   "source": [
    "params = {'product_features':prod_feat, 'training_step': 2, 'k': 5, 'base_algs_num': 3}\n",
    "forecast = arbitrated_composition(ts[:1], base_algs[:1], 1, params)"
   ]
  },
  {
   "cell_type": "code",
   "execution_count": 9,
   "metadata": {},
   "outputs": [],
   "source": [
    "part_of_ts = ts[:1].copy()\n",
    "base_alg_part = base_algs[:1].copy()"
   ]
  },
  {
   "cell_type": "code",
   "execution_count": 10,
   "metadata": {},
   "outputs": [],
   "source": [
    "part = 15\n",
    "h = 1\n",
    "part_of_ts['demand_qty'].iloc[0] = list(part_of_ts['demand_qty'])[0][:part]\n",
    "part_of_ts['period_start_dt'].iloc[0] = list(part_of_ts['period_start_dt'])[0][:part]"
   ]
  },
  {
   "cell_type": "code",
   "execution_count": 11,
   "metadata": {},
   "outputs": [],
   "source": [
    "base_alg_part['FC_WK'].iloc[0] = list(base_alg_part['FC_WK'])[0][:part+h]\n",
    "base_alg_part['dt'].iloc[0] = list(map(int, list(base_alg_part['dt'])[0]))[:part+h]\n",
    "base_alg_part['REGULAR'].iloc[0] = list(map(float, list(base_alg_part['REGULAR'])[0]))[:part+h]\n",
    "base_alg_part['SAS_FAW'].iloc[0] = list(map(float, list(base_alg_part['SAS_FAW'])[0]))[:part+h]\n",
    "base_alg_part['SAS_MINER'].iloc[0] = list(map(float, list(base_alg_part['SAS_MINER'])[0]))[:part+h]\n"
   ]
  },
  {
   "cell_type": "code",
   "execution_count": 12,
   "metadata": {},
   "outputs": [
    {
     "data": {
      "text/plain": [
       "array([[        nan,         nan,         nan,         nan,         nan,\n",
       "                nan,         nan,         nan, 13.61772867, 13.42010355,\n",
       "        13.18242573, 16.51006498, 14.97904226, 16.00502488, 11.19957561,\n",
       "         9.99564296,  7.53537224,  7.34097603,  8.79961398,  8.85462769,\n",
       "         8.15673498,  6.25479817,  6.89484274,  6.92491392,  5.8408258 ,\n",
       "         8.86293146,  7.87993004,  6.91029894,  9.78265986,  8.06067445,\n",
       "         8.48885072,  8.0337769 ,  9.57932748,  8.72789011,  7.50800229,\n",
       "        10.39444606,  8.64331032,  8.95340797,  8.94783012, 10.55630559,\n",
       "        11.02372754,  9.96782914,  8.28953578]])"
      ]
     },
     "execution_count": 12,
     "metadata": {},
     "output_type": "execute_result"
    }
   ],
   "source": [
    "forecast"
   ]
  },
  {
   "cell_type": "code",
   "execution_count": 13,
   "metadata": {},
   "outputs": [
    {
     "name": "stdout",
     "output_type": "stream",
     "text": [
      "Wait 1 iterations\n"
     ]
    },
    {
     "data": {
      "application/vnd.jupyter.widget-view+json": {
       "model_id": "4422314829544968bcd4f271aa2a0c25",
       "version_major": 2,
       "version_minor": 0
      },
      "text/html": [
       "<p>Failed to display Jupyter Widget of type <code>HBox</code>.</p>\n",
       "<p>\n",
       "  If you're reading this message in the Jupyter Notebook or JupyterLab Notebook, it may mean\n",
       "  that the widgets JavaScript is still loading. If this message persists, it\n",
       "  likely means that the widgets JavaScript library is either not installed or\n",
       "  not enabled. See the <a href=\"https://ipywidgets.readthedocs.io/en/stable/user_install.html\">Jupyter\n",
       "  Widgets Documentation</a> for setup instructions.\n",
       "</p>\n",
       "<p>\n",
       "  If you're reading this message in another frontend (for example, a static\n",
       "  rendering on GitHub or <a href=\"https://nbviewer.jupyter.org/\">NBViewer</a>),\n",
       "  it may mean that your frontend doesn't currently support widgets.\n",
       "</p>\n"
      ],
      "text/plain": [
       "HBox(children=(IntProgress(value=1, bar_style='info', max=1), HTML(value='')))"
      ]
     },
     "metadata": {},
     "output_type": "display_data"
    },
    {
     "name": "stdout",
     "output_type": "stream",
     "text": [
      "\n"
     ]
    },
    {
     "data": {
      "text/plain": [
       "array([[        nan,         nan,         nan,         nan,         nan,\n",
       "                nan,         nan,         nan, 13.61772867, 13.42010355,\n",
       "        13.18242573, 16.51006498, 14.97904226, 16.00502488, 11.19957561,\n",
       "         9.99564296]])"
      ]
     },
     "execution_count": 13,
     "metadata": {},
     "output_type": "execute_result"
    }
   ],
   "source": [
    "forecast = arbitrated_composition(part_of_ts, base_alg_part, 1, params)\n",
    "forecast"
   ]
  },
  {
   "cell_type": "code",
   "execution_count": null,
   "metadata": {},
   "outputs": [],
   "source": []
  },
  {
   "cell_type": "markdown",
   "metadata": {},
   "source": [
    "# Подбор k (размер вектора, подающийся на вход мета-алгоритму)\n",
    "\n",
    "![title](picture.jpg)"
   ]
  },
  {
   "cell_type": "code",
   "execution_count": 14,
   "metadata": {},
   "outputs": [],
   "source": [
    "def data_prep(ts_df, base_algs, h, params ):\n",
    "    ''' Parameters:\n",
    "    ts <Pandas DataFrame> - data frame of time series with features (=prod_feat)\n",
    "    base_algs <Pandas DataFrame> - data frame of base algorithms answers\n",
    "    h <integer scalar> - forecasting delay\n",
    "    params <dict>\n",
    "        product_features - features of product (don't include demand, date)\n",
    "        base_algs_num - number of base algorithms\n",
    "    '''\n",
    "    base_algs_num = params['base_algs_num']\n",
    "    \n",
    "    ts = ts_df.copy()\n",
    "    min_date = min(list(map(min, ts['period_start_dt'])))\n",
    "    forecast = np.empty( (ts.shape[0], max(list(map(max, ts['period_start_dt']))) - min_date + h) )\n",
    "    forecast[:] = np.nan\n",
    "    \n",
    "    forecast_ba_all, time_ser_all = [], []\n",
    "    print(f'Wait {len(ts)} iterations')\n",
    "    for ts_n, ((pr_id, st_id), _) in tqdm_notebook(enumerate(ts.iterrows()) ):\n",
    "        ba = base_algs.loc[pr_id, st_id]\n",
    "        forecast_ba = np.empty( (base_algs_num, forecast.shape[1]), dtype=np.float )\n",
    "        forecast_ba[:] = np.nan\n",
    "        for i, date in enumerate( ba['dt'] ):\n",
    "            if date - min_date >= forecast_ba.shape[1]:\n",
    "                break\n",
    "            forecast_ba[0, date - min_date] = ba['REGULAR'][i]\n",
    "            forecast_ba[1, date - min_date] = ba['SAS_FAW'][i]\n",
    "            forecast_ba[2, date - min_date] = ba['SAS_MINER'][i]\n",
    "        \n",
    "        forecast_ba_all.append(forecast_ba)\n",
    "\n",
    "        time_ser = np.empty( forecast.shape[1], dtype=np.float )\n",
    "        time_ser[:] = np.nan\n",
    "        ts_x = ts.loc[pr_id, st_id]\n",
    "        for i, date in enumerate( ts_x['period_start_dt'] ):\n",
    "            time_ser[date - min_date] = ts_x['demand_qty'][i]\n",
    "        # 0 instead of nan\n",
    "        time_ser[np.isnan( time_ser )] = 0\n",
    "        \n",
    "        time_ser_all.append(time_ser)\n",
    "    return forecast_ba_all, time_ser_all"
   ]
  },
  {
   "cell_type": "code",
   "execution_count": 15,
   "metadata": {},
   "outputs": [],
   "source": [
    "def make_dataset(forecast_ba_all, time_ser_all, h, params ):\n",
    "    ''' Parameters:\n",
    "    forecast_ba_all\n",
    "    time_ser_all\n",
    "    h <integer scalar> - forecasting delay\n",
    "    params <dict>\n",
    "        product_features - features of product (don't include demand, date)\n",
    "        base_algs_num - number of base algorithms\n",
    "        training_step - train every <training_step>'s time stamps\n",
    "        k - size of sample for meta-learner\n",
    "    '''\n",
    "    prod_feat = params['product_features']\n",
    "    base_algs_num = params['base_algs_num']\n",
    "    step = params['training_step']\n",
    "    k = params['k']\n",
    "\n",
    "    for pf in prod_feat:\n",
    "        ts[pf] = preprocessing.LabelEncoder().fit_transform(ts[pf])\n",
    "    oh = [preprocessing.OneHotEncoder().fit( ts[pf].values.reshape(-1, 1) ) for pf in prod_feat]\n",
    "\n",
    "    X_train, Y_train = [], []\n",
    "    print(f'Wait {len(ts)} iterations')\n",
    "    for ts_n, ((pr_id, st_id), _) in tqdm_notebook(enumerate(ts.iterrows()) ):\n",
    "        forecast_ba, time_ser = forecast_ba_all[ts_n], time_ser_all[ts_n]\n",
    "\n",
    "        xx = sc.hankel( time_ser[:-(k-1)], [-1]+list(time_ser[-(k-1):]) )[:-h, :]\n",
    "        xx_f = np.hstack( [ (oh[j].transform([[ ts.loc[pr_id, st_id][prod_feat[j]] ]]) ).toarray()[0] \\\n",
    "                          for j in range(len(prod_feat)) ] )\n",
    "        xx = np.hstack( [xx, np.tile( xx_f.reshape(-1), (xx.shape[0], 1) ) ] )\n",
    "\n",
    "        yy = np.vstack([ time_ser[k-1+h:] for i in range(base_algs_num) ])\n",
    "        yy = np.abs(forecast_ba[:, k-1+h: k-1+h + yy.shape[1]] - yy )\n",
    "        \n",
    "        X_train.append(xx.copy())\n",
    "        Y_train.append(yy.copy())\n",
    "    X_train, Y_train = np.vstack( X_train ), np.hstack( Y_train )\n",
    "    return X_train, Y_train"
   ]
  },
  {
   "cell_type": "code",
   "execution_count": 16,
   "metadata": {},
   "outputs": [],
   "source": [
    "def split_data(X, y):\n",
    "    X = X.reshape(-1, X.shape[0] // ts.shape[0], X.shape[1])\n",
    "    y = y.T.reshape(-1, y.shape[1] // ts.shape[0], y.shape[0])\n",
    "    assert X.shape[1] == y.shape[1]\n",
    "    X_train = X[:, :int(X.shape[1] * 0.6), :].reshape(-1, X.shape[2])\n",
    "    y_train = y[:, :int(y.shape[1] * 0.6), :].reshape(-1, y.shape[2])\n",
    "    X_val = X[:, int(X.shape[1] * 0.6): int(X.shape[1] * 0.8), :].reshape(-1, X.shape[2])\n",
    "    y_val = y[:, int(X.shape[1] * 0.6): int(X.shape[1] * 0.8), :].reshape(-1, y.shape[2])\n",
    "    X_test = X[:, int(X.shape[1] * 0.8):, :].reshape(-1, X.shape[2])\n",
    "    y_test = y[:, int(X.shape[1] * 0.8):, :].reshape(-1, y.shape[2])\n",
    "    return X_train, y_train, X_val, y_val, X_test, y_test"
   ]
  },
  {
   "cell_type": "code",
   "execution_count": null,
   "metadata": {},
   "outputs": [],
   "source": [
    "params = {'product_features':prod_feat, 'training_step': 7, 'k': 8, 'base_algs_num': 3}\n",
    "forecast_ba_all, time_ser_all = data_prep(ts, base_algs, 1, params)"
   ]
  },
  {
   "cell_type": "code",
   "execution_count": null,
   "metadata": {},
   "outputs": [],
   "source": [
    "for k in [5, 6, 7, 8, 10, 12, 14, 16, 18]:\n",
    "    rf = [ RandomForestRegressor() for i in range(3) ]\n",
    "    params['k'] = k\n",
    "    X, y = make_dataset(forecast_ba_all, time_ser_all, 1, params)\n",
    "    X_train, y_train, X_val, y_val, X_test, y_test = split_data(X, y)\n",
    "    del(X, y)\n",
    "    for i in range(len(rf)):\n",
    "        rf[i].fit( X_train, y_train[:, i] )\n",
    "    # save model\n",
    "    with open(f'rf_{k}.pickle', 'wb') as f:\n",
    "        pickle.dump( rf, f )\n",
    "    for i in range(len(rf)):\n",
    "        y_pred = rf[i].predict(X_val)\n",
    "        mae = np.mean(np.abs( y_val[:, i] - y_pred ) )\n",
    "        mse = np.mean( (y_val[:, i] - y_pred ) ** 2 )\n",
    "        #mape = np.mean(np.abs( ((y_val[:, i] - y_pred ) / y_val[:, i] ) ))\n",
    "        print( f\"k={k}, i={i}, mae={mae}, mse={mse}\" )  #, mape={mape}"
   ]
  },
  {
   "cell_type": "markdown",
   "metadata": {},
   "source": [
    "Эти строки записаны в файл \"k\", а потом считаны оттуда в коде ниже"
   ]
  },
  {
   "cell_type": "code",
   "execution_count": null,
   "metadata": {},
   "outputs": [],
   "source": [
    "k=5, i=0, mae=4.238123474957908, mse=39.26157334928975\n",
    "k=5, i=1, mae=4.556257119073007, mse=44.43054088091616\n",
    "k=5, i=2, mae=4.501177282378815, mse=46.74366766471853\n",
    "\n",
    "k=6, i=0, mae=4.213968142917311, mse=39.12745863272376\n",
    "k=6, i=1, mae=4.561264054781673, mse=44.917417554988795\n",
    "k=6, i=2, mae=4.502277993681249, mse=46.89041541319032\n",
    "\n",
    "k=7, i=0, mae=4.126792861013727, mse=36.81132429293708\n",
    "k=7, i=1, mae=4.4836108453548915, mse=42.303600340987195\n",
    "k=7, i=2, mae=4.450383779869882, mse=45.235315570150256\n",
    "\n",
    "k=8, i=0, mae=4.135552497724034, mse=36.9581395579881\n",
    "k=8, i=1, mae=4.525167561558037, mse=43.586979652148635\n",
    "k=8, i=2, mae=4.482644266837312, mse=45.22288614733079\n",
    "\n",
    "k=10, i=0, mae=4.098612633484411, mse=37.60608228983893\n",
    "k=10, i=1, mae=4.375665831328871, mse=41.37948883993518\n",
    "k=10, i=2, mae=4.448516439924687, mse=44.69716981863055\n",
    "\n",
    "k=12, i=0, mae=3.9754394960167074, mse=35.15210665327897\n",
    "k=12, i=1, mae=4.25555923014637, mse=40.287033991463105\n",
    "k=12, i=2, mae=4.42900216598612, mse=44.86931374902853\n",
    "\n",
    "k=14, i=0, mae=3.6353323865205804, mse=29.73242143435215\n",
    "k=14, i=1, mae=3.8163992766696797, mse=32.113670389816626\n",
    "k=14, i=2, mae=3.8454373077244544, mse=33.137813757659615\n",
    "\n",
    "k=18, i=0, mae=3.6245084360357147, mse=28.50656993587725\n",
    "k=18, i=1, mae=3.614263649224043, mse=28.722344753168084\n",
    "k=18, i=2, mae=3.6543246206139863, mse=30.692778040400547\n",
    "\n",
    "k=20, i=0, mae=3.6656928092503067, mse=29.43379955855255\n",
    "k=20, i=1, mae=3.5769457910664926, mse=28.103446339916623\n",
    "k=20, i=2, mae=3.6629246186574935, mse=30.79683226304116"
   ]
  },
  {
   "cell_type": "code",
   "execution_count": 19,
   "metadata": {},
   "outputs": [],
   "source": [
    "import re"
   ]
  },
  {
   "cell_type": "code",
   "execution_count": 43,
   "metadata": {},
   "outputs": [
    {
     "name": "stderr",
     "output_type": "stream",
     "text": [
      "/home/mark/miniconda3/lib/python3.6/re.py:212: FutureWarning: split() requires a non-empty pattern match.\n",
      "  return _compile(pattern, flags).split(string, maxsplit)\n"
     ]
    }
   ],
   "source": [
    "with open('k', 'r') as f:\n",
    "    s = f.readlines()\n",
    "mae = [[], [], []]\n",
    "mse = [[], [], []]\n",
    "k = []\n",
    "for l in s:\n",
    "    if l.strip() == '':\n",
    "        continue\n",
    "    args = [float(el) for el in re.split('[a-z,=, ]*', l.strip() )[1:] ]\n",
    "    mae[int(args[1])].append(args[2])\n",
    "    mse[int(args[1])].append(args[3])\n",
    "    k.append(int(args[0]) )\n",
    "k = np.unique(k)"
   ]
  },
  {
   "cell_type": "code",
   "execution_count": null,
   "metadata": {},
   "outputs": [],
   "source": []
  },
  {
   "cell_type": "code",
   "execution_count": 52,
   "metadata": {},
   "outputs": [
    {
     "data": {
      "image/png": "[encoded data removed]",
      "text/plain": [
       "<Figure size 432x288 with 1 Axes>"
      ]
     },
     "metadata": {},
     "output_type": "display_data"
    },
    {
     "data": {
      "text/plain": [
       "Text(0,0.5,'MSE')"
      ]
     },
     "execution_count": 52,
     "metadata": {},
     "output_type": "execute_result"
    },
    {
     "data": {
      "image/png": "[encoded data removed]",
      "text/plain": [
       "<Figure size 432x288 with 1 Axes>"
      ]
     },
     "metadata": {},
     "output_type": "display_data"
    }
   ],
   "source": [
    "for i in range(3):\n",
    "    plt.plot(k, mae[i])\n",
    "plt.legend( ['REGULAR', 'SAS_FAW', 'SAS_MINER'] )\n",
    "plt.xlabel('k')\n",
    "plt.ylabel('MAE')\n",
    "plt.show()\n",
    "for i in range(3):\n",
    "    plt.plot(k, mse[i])\n",
    "plt.legend( ['REGULAR', 'SAS_FAW', 'SAS_MINER'] )\n",
    "plt.xlabel('k')\n",
    "plt.ylabel('MSE')"
   ]
  },
  {
   "cell_type": "code",
   "execution_count": null,
   "metadata": {},
   "outputs": [],
   "source": []
  },
  {
   "cell_type": "markdown",
   "metadata": {},
   "source": [
    "# Предсказание (результат записывается в файл predictions.csv)"
   ]
  },
  {
   "cell_type": "code",
   "execution_count": null,
   "metadata": {},
   "outputs": [],
   "source": [
    "with open('rf_18.pickle', 'rb') as f:\n",
    "    rf = pickle.load(f)\n",
    "params = {'product_features': prod_feat, 'training_step': 7, 'k': 18, 'base_algs_num': 3}\n",
    "forecast_ba_all, time_ser_all = data_prep(ts, base_algs, 1, params)\n",
    "X, y = make_dataset(forecast_ba_all, time_ser_all, 1, params)\n",
    "X = X.reshape(-1, X.shape[0] // ts.shape[0], X.shape[1])\n",
    "y = y.T.reshape(-1, y.shape[1] // ts.shape[0], y.shape[0])\n",
    "pred = []\n",
    "for i in range(len(rf)):\n",
    "    pred.append( rf[i].predict(X[:, -1, :]) )\n",
    "pred = np.array( pred)\n",
    "weights = softmax(-pred.T)\n",
    "\n",
    "res = []\n",
    "i = 0\n",
    "for (pr_id, st_id), _ in ts.iterrows():\n",
    "    reg = np.array(base_algs.loc[pr_id, st_id]['REGULAR'], dtype=np.float)\n",
    "    faw = np.array(base_algs.loc[pr_id, st_id]['SAS_FAW'], dtype=np.float)\n",
    "    miner = np.array(base_algs.loc[pr_id, st_id]['SAS_MINER'], dtype=np.float)\n",
    "    \n",
    "    r = weights[i, 0] * reg + weights[i, 1] * faw + weights[i, 2] * miner\n",
    "    res.append([pr_id, st_id, *list(r) ])\n",
    "    i += 1\n",
    "dates = list(map(lambda x: datetime.fromordinal(x).date().isoformat(), base_algs['dt'][0] ))\n",
    "pd.DataFrame(data=res, columns=['PRODUCT_ID', 'STORE_LOCATION_ID', *dates]).to_csv('predictions.csv')"
   ]
  },
  {
   "cell_type": "code",
   "execution_count": null,
   "metadata": {},
   "outputs": [],
   "source": []
  }
 ],
 "metadata": {
  "kernelspec": {
   "display_name": "Python 3",
   "language": "python",
   "name": "python3"
  },
  "language_info": {
   "codemirror_mode": {
    "name": "ipython",
    "version": 3
   },
   "file_extension": ".py",
   "mimetype": "text/x-python",
   "name": "python",
   "nbconvert_exporter": "python",
   "pygments_lexer": "ipython3",
   "version": "3.6.3"
  }
 },
 "nbformat": 4,
 "nbformat_minor": 1
}
