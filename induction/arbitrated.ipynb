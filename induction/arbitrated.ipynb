{
 "cells": [
  {
   "cell_type": "code",
   "execution_count": null,
   "metadata": {},
   "outputs": [],
   "source": [
    "Добавлено:\n",
    "1) one-hot\n",
    "2) обработка пропущенных значений - mean вместо nan\n",
    "3) вывод элементов выборки\n",
    "4) обновлён params\n",
    "TODO:\n",
    "1) подбор k\n",
    "2) попробовать большое по модулю негативное число место nan"
   ]
  },
  {
   "cell_type": "code",
   "execution_count": 1,
   "metadata": {},
   "outputs": [],
   "source": [
    "import numpy as np\n",
    "from datetime import datetime\n",
    "import matplotlib.pyplot as plt\n",
    "import pandas as pd\n",
    "import scipy.linalg as sc\n",
    "from sklearn import preprocessing\n",
    "from utils import qualityMACAPE, qualityRMSE\n",
    "from sklearn.ensemble import RandomForestRegressor\n",
    "from tqdm import tqdm_notebook\n",
    "from sklearn.utils.extmath import softmax\n",
    "%matplotlib inline\n",
    "np.random.seed(68)"
   ]
  },
  {
   "cell_type": "code",
   "execution_count": 2,
   "metadata": {},
   "outputs": [],
   "source": [
    "# softmax([[1.,3,3],[3.,1.,0] ])\n",
    "# >>> array([[0.06337894, 0.46831053, 0.46831053],\n",
    "# >>> [0.84379473, 0.1141952 , 0.04201007]])\n",
    "\n",
    "# datetime.strptime('17DEC2018','%d%b%Y').toordinal()\n",
    "# >>> 737045"
   ]
  },
  {
   "cell_type": "code",
   "execution_count": null,
   "metadata": {},
   "outputs": [],
   "source": []
  },
  {
   "cell_type": "code",
   "execution_count": 3,
   "metadata": {},
   "outputs": [],
   "source": [
    "prod_feat = ['STORE_LOCATION_LVL_NM2', 'ST_LOC_DIVISION_NM', 'ST_LOC_MNGMT_CLSTR', 'PRODUCT_DESC']"
   ]
  },
  {
   "cell_type": "code",
   "execution_count": 4,
   "metadata": {},
   "outputs": [],
   "source": [
    "ts = pd.read_csv('./EGG_train.csv', encoding=\"cp1251\", sep=';', decimal=',', parse_dates=True, dayfirst=True)\n",
    "# parse dates\n",
    "ts['period_start_dt'] = [ datetime.strptime(date, '%d%b%Y').toordinal() for date in ts['period_start_dt'] ]\n",
    "ts = ts.sort_values(by=['PRODUCT_ID', 'STORE_LOCATION_ID', 'period_start_dt'])\n",
    "ts = ts.groupby(['PRODUCT_ID', 'STORE_LOCATION_ID']).agg(\n",
    "    lambda x: list(x)[0] if type(list(x)[0]) is str else list(x) )"
   ]
  },
  {
   "cell_type": "code",
   "execution_count": 5,
   "metadata": {},
   "outputs": [
    {
     "data": {
      "text/html": [
       "<div>\n",
       "<style scoped>\n",
       "    .dataframe tbody tr th:only-of-type {\n",
       "        vertical-align: middle;\n",
       "    }\n",
       "\n",
       "    .dataframe tbody tr th {\n",
       "        vertical-align: top;\n",
       "    }\n",
       "\n",
       "    .dataframe thead th {\n",
       "        text-align: right;\n",
       "    }\n",
       "</style>\n",
       "<table border=\"1\" class=\"dataframe\">\n",
       "  <thead>\n",
       "    <tr style=\"text-align: right;\">\n",
       "      <th></th>\n",
       "      <th></th>\n",
       "      <th>period_start_dt</th>\n",
       "      <th>demand_qty</th>\n",
       "      <th>STORE_LOCATION_LVL_NM2</th>\n",
       "      <th>STORE_LOCATION_LVL_NM7</th>\n",
       "      <th>ST_LOC_DIVISION_NM</th>\n",
       "      <th>ST_LOC_MNGMT_CLSTR</th>\n",
       "      <th>PRODUCT_LVL_NM8</th>\n",
       "      <th>PRODUCT_LVL_NM13</th>\n",
       "      <th>PRODUCT_DESC</th>\n",
       "    </tr>\n",
       "    <tr>\n",
       "      <th>PRODUCT_ID</th>\n",
       "      <th>STORE_LOCATION_ID</th>\n",
       "      <th></th>\n",
       "      <th></th>\n",
       "      <th></th>\n",
       "      <th></th>\n",
       "      <th></th>\n",
       "      <th></th>\n",
       "      <th></th>\n",
       "      <th></th>\n",
       "      <th></th>\n",
       "    </tr>\n",
       "  </thead>\n",
       "  <tbody>\n",
       "    <tr>\n",
       "      <th rowspan=\"2\" valign=\"top\">475861</th>\n",
       "      <th>833805</th>\n",
       "      <td>[737045, 737046, 737047, 737048, 737049, 73705...</td>\n",
       "      <td>[5, 15, 3, 3, 4, 2, 2, 4, 4, 7, 13, 13, 13, 11...</td>\n",
       "      <td>59 ПЕРМСКИЙ КРАЙ</td>\n",
       "      <td>22_1119160 ЛЫСЬВА Г</td>\n",
       "      <td>UR</td>\n",
       "      <td>D_UR17</td>\n",
       "      <td>FR0607000 - Яйцо</td>\n",
       "      <td>42_FR0607001 - Яйцо куриное</td>\n",
       "      <td>ТЕНДЕР Яйца кур.С0 стол.фас.10шт</td>\n",
       "    </tr>\n",
       "    <tr>\n",
       "      <th>833807</th>\n",
       "      <td>[737045, 737046, 737047, 737048, 737049, 73705...</td>\n",
       "      <td>[40, 50, 36, 34, 55, 38, 35, 49, 36, 60, 58, 5...</td>\n",
       "      <td>72 ТЮМЕНСКАЯ ОБЛ</td>\n",
       "      <td>22_1180983 ТЮМЕНЬ Г</td>\n",
       "      <td>UR</td>\n",
       "      <td>D_UR29</td>\n",
       "      <td>FR0607000 - Яйцо</td>\n",
       "      <td>42_FR0607001 - Яйцо куриное</td>\n",
       "      <td>ТЕНДЕР Яйца кур.С0 стол.фас.10шт</td>\n",
       "    </tr>\n",
       "  </tbody>\n",
       "</table>\n",
       "</div>"
      ],
      "text/plain": [
       "                                                                period_start_dt  \\\n",
       "PRODUCT_ID STORE_LOCATION_ID                                                      \n",
       "475861     833805             [737045, 737046, 737047, 737048, 737049, 73705...   \n",
       "           833807             [737045, 737046, 737047, 737048, 737049, 73705...   \n",
       "\n",
       "                                                                     demand_qty  \\\n",
       "PRODUCT_ID STORE_LOCATION_ID                                                      \n",
       "475861     833805             [5, 15, 3, 3, 4, 2, 2, 4, 4, 7, 13, 13, 13, 11...   \n",
       "           833807             [40, 50, 36, 34, 55, 38, 35, 49, 36, 60, 58, 5...   \n",
       "\n",
       "                             STORE_LOCATION_LVL_NM2 STORE_LOCATION_LVL_NM7  \\\n",
       "PRODUCT_ID STORE_LOCATION_ID                                                 \n",
       "475861     833805                  59 ПЕРМСКИЙ КРАЙ    22_1119160 ЛЫСЬВА Г   \n",
       "           833807                  72 ТЮМЕНСКАЯ ОБЛ    22_1180983 ТЮМЕНЬ Г   \n",
       "\n",
       "                             ST_LOC_DIVISION_NM ST_LOC_MNGMT_CLSTR  \\\n",
       "PRODUCT_ID STORE_LOCATION_ID                                         \n",
       "475861     833805                            UR             D_UR17   \n",
       "           833807                            UR             D_UR29   \n",
       "\n",
       "                               PRODUCT_LVL_NM8             PRODUCT_LVL_NM13  \\\n",
       "PRODUCT_ID STORE_LOCATION_ID                                                  \n",
       "475861     833805             FR0607000 - Яйцо  42_FR0607001 - Яйцо куриное   \n",
       "           833807             FR0607000 - Яйцо  42_FR0607001 - Яйцо куриное   \n",
       "\n",
       "                                                  PRODUCT_DESC  \n",
       "PRODUCT_ID STORE_LOCATION_ID                                    \n",
       "475861     833805             ТЕНДЕР Яйца кур.С0 стол.фас.10шт  \n",
       "           833807             ТЕНДЕР Яйца кур.С0 стол.фас.10шт  "
      ]
     },
     "execution_count": 5,
     "metadata": {},
     "output_type": "execute_result"
    }
   ],
   "source": [
    "ts.iloc[:2]"
   ]
  },
  {
   "cell_type": "code",
   "execution_count": 6,
   "metadata": {},
   "outputs": [],
   "source": [
    "base_algs = pd.read_csv('./EGG_BA_FCST.csv', encoding=\"cp1251\", sep=';',\n",
    "                        decimal=',', parse_dates=True, dayfirst=True)\n",
    "# parse dates\n",
    "base_algs['dt'] = [ datetime.strptime(date, '%d%b%Y').toordinal() for date in base_algs['dt'] ]\n",
    "base_algs = base_algs.sort_values(by=['PRODUCT_LVL_ID', 'STORE_LOCATION_LVL_ID', 'dt']).groupby(\n",
    "    ['PRODUCT_LVL_ID', 'STORE_LOCATION_LVL_ID']).agg(lambda x: list(x))"
   ]
  },
  {
   "cell_type": "code",
   "execution_count": 7,
   "metadata": {
    "scrolled": true
   },
   "outputs": [
    {
     "data": {
      "text/html": [
       "<div>\n",
       "<style scoped>\n",
       "    .dataframe tbody tr th:only-of-type {\n",
       "        vertical-align: middle;\n",
       "    }\n",
       "\n",
       "    .dataframe tbody tr th {\n",
       "        vertical-align: top;\n",
       "    }\n",
       "\n",
       "    .dataframe thead th {\n",
       "        text-align: right;\n",
       "    }\n",
       "</style>\n",
       "<table border=\"1\" class=\"dataframe\">\n",
       "  <thead>\n",
       "    <tr style=\"text-align: right;\">\n",
       "      <th></th>\n",
       "      <th></th>\n",
       "      <th>FC_WK</th>\n",
       "      <th>dt</th>\n",
       "      <th>REGULAR</th>\n",
       "      <th>SAS_FAW</th>\n",
       "      <th>SAS_MINER</th>\n",
       "      <th>Horizon_Week</th>\n",
       "      <th>Horizon_day</th>\n",
       "    </tr>\n",
       "    <tr>\n",
       "      <th>PRODUCT_LVL_ID</th>\n",
       "      <th>STORE_LOCATION_LVL_ID</th>\n",
       "      <th></th>\n",
       "      <th></th>\n",
       "      <th></th>\n",
       "      <th></th>\n",
       "      <th></th>\n",
       "      <th></th>\n",
       "      <th></th>\n",
       "    </tr>\n",
       "  </thead>\n",
       "  <tbody>\n",
       "    <tr>\n",
       "      <th rowspan=\"2\" valign=\"top\">475861</th>\n",
       "      <th>833805</th>\n",
       "      <td>[17DEC2018, 17DEC2018, 17DEC2018, 17DEC2018, 1...</td>\n",
       "      <td>[737045, 737046, 737047, 737048, 737049, 73705...</td>\n",
       "      <td>[13.808, 14.767, 14.151, 14.225, 16.6, 14.393,...</td>\n",
       "      <td>[11.402, 14.406, 13.243, 12.417, 15.854, 15.62...</td>\n",
       "      <td>[14.043, 13.101, 13.042, 13.885, 15.022, 11.39...</td>\n",
       "      <td>[1, 1, 1, 1, 1, 1, 1, 1, 1, 1, 1, 1, 1, 1, 1, ...</td>\n",
       "      <td>[1, 2, 3, 4, 5, 6, 7, 1, 2, 3, 4, 5, 6, 7, 1, ...</td>\n",
       "    </tr>\n",
       "    <tr>\n",
       "      <th>833807</th>\n",
       "      <td>[17DEC2018, 17DEC2018, 17DEC2018, 17DEC2018, 1...</td>\n",
       "      <td>[737045, 737046, 737047, 737048, 737049, 73705...</td>\n",
       "      <td>[48.201, 47.105, 48.23, 45.698, 48.673, 45.587...</td>\n",
       "      <td>[46.673, 46.091, 49.205, 44.513, 51.553, 49.42...</td>\n",
       "      <td>[43.755, 42.337, 41.579, 41.251, 40.291, 36.73...</td>\n",
       "      <td>[1, 1, 1, 1, 1, 1, 1, 1, 1, 1, 1, 1, 1, 1, 1, ...</td>\n",
       "      <td>[1, 2, 3, 4, 5, 6, 7, 1, 2, 3, 4, 5, 6, 7, 1, ...</td>\n",
       "    </tr>\n",
       "  </tbody>\n",
       "</table>\n",
       "</div>"
      ],
      "text/plain": [
       "                                                                                  FC_WK  \\\n",
       "PRODUCT_LVL_ID STORE_LOCATION_LVL_ID                                                      \n",
       "475861         833805                 [17DEC2018, 17DEC2018, 17DEC2018, 17DEC2018, 1...   \n",
       "               833807                 [17DEC2018, 17DEC2018, 17DEC2018, 17DEC2018, 1...   \n",
       "\n",
       "                                                                                     dt  \\\n",
       "PRODUCT_LVL_ID STORE_LOCATION_LVL_ID                                                      \n",
       "475861         833805                 [737045, 737046, 737047, 737048, 737049, 73705...   \n",
       "               833807                 [737045, 737046, 737047, 737048, 737049, 73705...   \n",
       "\n",
       "                                                                                REGULAR  \\\n",
       "PRODUCT_LVL_ID STORE_LOCATION_LVL_ID                                                      \n",
       "475861         833805                 [13.808, 14.767, 14.151, 14.225, 16.6, 14.393,...   \n",
       "               833807                 [48.201, 47.105, 48.23, 45.698, 48.673, 45.587...   \n",
       "\n",
       "                                                                                SAS_FAW  \\\n",
       "PRODUCT_LVL_ID STORE_LOCATION_LVL_ID                                                      \n",
       "475861         833805                 [11.402, 14.406, 13.243, 12.417, 15.854, 15.62...   \n",
       "               833807                 [46.673, 46.091, 49.205, 44.513, 51.553, 49.42...   \n",
       "\n",
       "                                                                              SAS_MINER  \\\n",
       "PRODUCT_LVL_ID STORE_LOCATION_LVL_ID                                                      \n",
       "475861         833805                 [14.043, 13.101, 13.042, 13.885, 15.022, 11.39...   \n",
       "               833807                 [43.755, 42.337, 41.579, 41.251, 40.291, 36.73...   \n",
       "\n",
       "                                                                           Horizon_Week  \\\n",
       "PRODUCT_LVL_ID STORE_LOCATION_LVL_ID                                                      \n",
       "475861         833805                 [1, 1, 1, 1, 1, 1, 1, 1, 1, 1, 1, 1, 1, 1, 1, ...   \n",
       "               833807                 [1, 1, 1, 1, 1, 1, 1, 1, 1, 1, 1, 1, 1, 1, 1, ...   \n",
       "\n",
       "                                                                            Horizon_day  \n",
       "PRODUCT_LVL_ID STORE_LOCATION_LVL_ID                                                     \n",
       "475861         833805                 [1, 2, 3, 4, 5, 6, 7, 1, 2, 3, 4, 5, 6, 7, 1, ...  \n",
       "               833807                 [1, 2, 3, 4, 5, 6, 7, 1, 2, 3, 4, 5, 6, 7, 1, ...  "
      ]
     },
     "execution_count": 7,
     "metadata": {},
     "output_type": "execute_result"
    }
   ],
   "source": [
    "base_algs.iloc[:2]"
   ]
  },
  {
   "cell_type": "code",
   "execution_count": null,
   "metadata": {},
   "outputs": [],
   "source": []
  },
  {
   "cell_type": "code",
   "execution_count": 12,
   "metadata": {},
   "outputs": [],
   "source": [
    "def arbitrating_composition(ts_df, base_algs, h, params ):\n",
    "    ''' Parameters:\n",
    "    ts <Pandas DataFrame> - data frame of time series with features (=prod_feat)\n",
    "    base_algs <Pandas DataFrame> - data frame of base algorithms answers\n",
    "    h <integer scalar> - forecasting delay\n",
    "    params <dict>\n",
    "        product_features - features of product (don't include demand, date)\n",
    "        base_algs_num - number of base algorithms\n",
    "        training_step - train every <training_step>'s time stamps\n",
    "        k - size of sample for meta-learner\n",
    "    '''\n",
    "    prod_feat = params['product_features']\n",
    "    base_algs_num = params['base_algs_num']\n",
    "    step = params['training_step']\n",
    "    k = params['k']\n",
    "    \n",
    "    ts = ts_df.copy()\n",
    "    min_date = min(list(map(min, ts['period_start_dt'])))\n",
    "    forecast = np.empty( (ts.shape[0], max(list(map(max, ts['period_start_dt']))) - min_date + h) )\n",
    "    forecast[:] = np.nan\n",
    "\n",
    "    for pf in prod_feat:\n",
    "        ts[pf] = preprocessing.LabelEncoder().fit_transform(ts[pf])\n",
    "    oh = [preprocessing.OneHotEncoder().fit( ts[pf].as_matrix().reshape(-1, 1) ) for pf in prod_feat]\n",
    "\n",
    "    X_train, Y_train = None, None\n",
    "    rf = [ RandomForestRegressor() for _ in range(base_algs_num) ]  # random forest\n",
    "    is_fitted = False\n",
    "    \n",
    "    print(f'Wait {len(ts)} iterations')\n",
    "    for ts_n, ((pr_id, st_id), _) in tqdm_notebook(enumerate(ts.iterrows()) ):\n",
    "        ba = base_algs.loc[pr_id, st_id]\n",
    "        forecast_ba = np.empty( (base_algs_num, forecast.shape[1]), dtype=np.float )\n",
    "        forecast_ba[:] = np.nan\n",
    "        for i, date in enumerate( ba['dt'] ):\n",
    "            if date - min_date >= forecast_ba.shape[1]:\n",
    "                break\n",
    "            forecast_ba[0, date - min_date] = ba['REGULAR'][i]\n",
    "            forecast_ba[1, date - min_date] = ba['SAS_FAW'][i]\n",
    "            forecast_ba[2, date - min_date] = ba['SAS_MINER'][i]\n",
    "        time_ser = np.empty( forecast.shape[1], dtype=np.float )\n",
    "        time_ser[:] = np.nan\n",
    "        ts_x = ts.loc[pr_id, st_id]\n",
    "        for i, date in enumerate( ts_x['period_start_dt'] ):\n",
    "            time_ser[date - min_date] = ts_x['demand_qty'][i]\n",
    "        # mean value instead of nan\n",
    "        time_ser[np.isnan( time_ser )] = time_ser[np.logical_not( np.isnan( time_ser ) )].mean()\n",
    "        \n",
    "        xx = sc.hankel( time_ser[:-(k-1)], [-1]+list(time_ser[-(k-1):]) )[:-h, :]\n",
    "        xx_f = np.hstack( [ (oh[j].transform([[ ts.loc[pr_id, st_id][prod_feat[j]] ]]) ).toarray()[0] \\\n",
    "                          for j in range(len(prod_feat)) ] )\n",
    "        xx = np.hstack( [xx, np.tile( xx_f.reshape(-1), (xx.shape[0], 1) ) ] )\n",
    "\n",
    "        yy = np.vstack([ time_ser[k-1+h:] for i in range(base_algs_num) ])\n",
    "        yy = np.abs(forecast_ba[:, k-1+h: k-1+h + yy.shape[1]] - yy )\n",
    "        #nn_ind = np.logical_not(np.isnan( yy.sum(axis = 0) ))\n",
    "        yy_step_c = 0\n",
    "        for t in range( yy.shape[1] + k-1+h ):\n",
    "            if (t >= k-1+h) and is_fitted:\n",
    "                x_t = xx[t - (k-1+h)]\n",
    "                ans = [ rf[i].predict([x_t])[0] for i in range(len(rf)) ]\n",
    "                forecast[ts_n, t] = np.dot(softmax([ans])[0], forecast_ba[:, t])\n",
    "            if not np.isnan(yy[:, t-(k-1+h)]).any():\n",
    "                yy_step_c += 1\n",
    "            if yy_step_c % step == 0:\n",
    "                #x = np.array([xx[i, :] for i in range(len(nn_ind)) if nn_ind[i]])\n",
    "                #y = np.array([yy[:, i] for i in range(len(nn_ind)) if nn_ind[i]]).T\n",
    "                x, y = xx[:], yy[:]\n",
    "                for rf_i in range(len(rf)):\n",
    "                    if X_train is None:\n",
    "                        batch_x, batch_y = x[:t-(k-1+h)], y[rf_i, :t-(k-1+h)]\n",
    "                    else:\n",
    "                        batch_x = np.vstack( (X_train, x[:t-(k-1+h)] ))\n",
    "                        batch_y = np.append(Y_train[rf_i, :], y[rf_i, :t-(k-1+h)])\n",
    "                    if batch_y.shape[0] != 0:\n",
    "                        rf[rf_i] = RandomForestRegressor()\n",
    "                        rf[rf_i].fit( batch_x, batch_y )\n",
    "                        is_fitted = True\n",
    "        if X_train is None:\n",
    "            X_train, Y_train = xx, yy\n",
    "        else:\n",
    "            X_train, Y_train = np.vstack( (X_train, xx) ), np.hstack( (Y_train, yy) )\n",
    "    return forecast"
   ]
  },
  {
   "cell_type": "code",
   "execution_count": null,
   "metadata": {},
   "outputs": [],
   "source": []
  },
  {
   "cell_type": "code",
   "execution_count": 10,
   "metadata": {},
   "outputs": [],
   "source": [
    "params = {'product_features': prod_feat, 'training_step': 7, 'k': 8, 'base_algs_num': 3}"
   ]
  },
  {
   "cell_type": "code",
   "execution_count": 14,
   "metadata": {},
   "outputs": [],
   "source": [
    "#forecast = arbitrating_composition(ts, base_algs, 1, params)"
   ]
  },
  {
   "cell_type": "code",
   "execution_count": null,
   "metadata": {},
   "outputs": [],
   "source": []
  },
  {
   "cell_type": "code",
   "execution_count": null,
   "metadata": {},
   "outputs": [],
   "source": []
  },
  {
   "cell_type": "code",
   "execution_count": null,
   "metadata": {},
   "outputs": [],
   "source": []
  },
  {
   "cell_type": "code",
   "execution_count": null,
   "metadata": {},
   "outputs": [],
   "source": []
  },
  {
   "cell_type": "code",
   "execution_count": null,
   "metadata": {},
   "outputs": [],
   "source": []
  },
  {
   "cell_type": "code",
   "execution_count": null,
   "metadata": {},
   "outputs": [],
   "source": []
  },
  {
   "cell_type": "code",
   "execution_count": null,
   "metadata": {},
   "outputs": [],
   "source": []
  },
  {
   "cell_type": "code",
   "execution_count": null,
   "metadata": {},
   "outputs": [],
   "source": []
  },
  {
   "cell_type": "code",
   "execution_count": 58,
   "metadata": {},
   "outputs": [
    {
     "name": "stdout",
     "output_type": "stream",
     "text": [
      "Количество уникальных значений для prod_feat:\n",
      "STORE_LOCATION_LVL_NM2 64\n",
      "STORE_LOCATION_LVL_NM7 1917\n",
      "ST_LOC_DIVISION_NM 15\n",
      "ST_LOC_MNGMT_CLSTR 198\n",
      "PRODUCT_LVL_NM8 1\n",
      "PRODUCT_LVL_NM13 1\n",
      "PRODUCT_DESC 3\n"
     ]
    }
   ],
   "source": [
    "print('Количество уникальных значений для prod_feat:')\n",
    "for f in prod_feat:\n",
    "    print(f,  np.unique(ts[f]).shape[0] )"
   ]
  },
  {
   "cell_type": "code",
   "execution_count": 62,
   "metadata": {},
   "outputs": [
    {
     "name": "stdout",
     "output_type": "stream",
     "text": [
      "Три значения вр:\n",
      "period_start_dt                   [737046, 737049, 737051]\n",
      "demand_qty                                               1\n",
      "STORE_LOCATION_LVL_NM2                    63 САМАРСКАЯ ОБЛ\n",
      "STORE_LOCATION_LVL_NM7               22_1081621 ТОЛЬЯТТИ Г\n",
      "ST_LOC_DIVISION_NM                                      VO\n",
      "ST_LOC_MNGMT_CLSTR                                  D_VO53\n",
      "PRODUCT_LVL_NM8                           FR0607000 - Яйцо\n",
      "PRODUCT_LVL_NM13               42_FR0607001 - Яйцо куриное\n",
      "PRODUCT_DESC              ТЕНДЕР Яйца кур.С0 стол.фас.10шт\n",
      "Name: (475861, 845840), dtype: object\n"
     ]
    }
   ],
   "source": [
    "print('Три значения вр:')\n",
    "print(ts.iloc[9747])\n",
    "#ts[np.logical_and( (ts['PRODUCT_ID'] == 475861),ts['STORE_LOCATION_ID'] == 845840)]"
   ]
  },
  {
   "cell_type": "code",
   "execution_count": null,
   "metadata": {},
   "outputs": [],
   "source": []
  },
  {
   "cell_type": "code",
   "execution_count": 27,
   "metadata": {
    "scrolled": true
   },
   "outputs": [],
   "source": [
    "# forecast[ np.logical_not(np.isnan(forecast)) ].shape\n",
    "\n",
    "# for i, col in enumerate(ts.columns):\n",
    "#     ts[col].plot(figsize=(15,5), color='green', label='real')\n",
    "#     pd.Series(data=forecast[i, :-1], index=ts[col].index).plot(color='red', label='arbitrated')\n",
    "    \n",
    "#     plt.title(col)\n",
    "#     plt.legend()\n",
    "#     plt.show()"
   ]
  },
  {
   "cell_type": "code",
   "execution_count": null,
   "metadata": {},
   "outputs": [],
   "source": []
  }
 ],
 "metadata": {
  "kernelspec": {
   "display_name": "Python 3",
   "language": "python",
   "name": "python3"
  },
  "language_info": {
   "codemirror_mode": {
    "name": "ipython",
    "version": 3
   },
   "file_extension": ".py",
   "mimetype": "text/x-python",
   "name": "python",
   "nbconvert_exporter": "python",
   "pygments_lexer": "ipython3",
   "version": "3.6.3"
  }
 },
 "nbformat": 4,
 "nbformat_minor": 1
}
