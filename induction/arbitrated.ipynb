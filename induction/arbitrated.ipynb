{
 "cells": [
  {
   "cell_type": "code",
   "execution_count": 13,
   "metadata": {},
   "outputs": [],
   "source": [
    "import numpy as np\n",
    "from datetime import datetime\n",
    "import matplotlib.pyplot as plt\n",
    "import pandas as pd\n",
    "import scipy.linalg as sc\n",
    "from sklearn import preprocessing\n",
    "from utils import qualityMACAPE, qualityRMSE\n",
    "from sklearn.ensemble import RandomForestRegressor\n",
    "from tqdm import tqdm_notebook\n",
    "from sklearn.utils.extmath import softmax\n",
    "%matplotlib inline"
   ]
  },
  {
   "cell_type": "code",
   "execution_count": 30,
   "metadata": {},
   "outputs": [],
   "source": [
    "# softmax([[1.,3,3],[3.,1.,0] ])\n",
    "# >>> array([[0.06337894, 0.46831053, 0.46831053],\n",
    "# >>> [0.84379473, 0.1141952 , 0.04201007]])\n",
    "\n",
    "# datetime.strptime('17DEC2018','%d%b%Y').toordinal()\n",
    "# >>> 737045"
   ]
  },
  {
   "cell_type": "code",
   "execution_count": null,
   "metadata": {},
   "outputs": [],
   "source": []
  },
  {
   "cell_type": "code",
   "execution_count": 3,
   "metadata": {},
   "outputs": [
    {
     "data": {
      "text/plain": [
       "['STORE_LOCATION_LVL_NM2',\n",
       " 'STORE_LOCATION_LVL_NM7',\n",
       " 'ST_LOC_DIVISION_NM',\n",
       " 'ST_LOC_MNGMT_CLSTR',\n",
       " 'PRODUCT_LVL_NM8',\n",
       " 'PRODUCT_LVL_NM13',\n",
       " 'PRODUCT_DESC']"
      ]
     },
     "execution_count": 3,
     "metadata": {},
     "output_type": "execute_result"
    }
   ],
   "source": [
    "ts = pd.read_csv('./EGG_train.csv', encoding=\"cp1251\", sep=';', decimal=',', parse_dates=True, dayfirst=True)\n",
    "# parse dates\n",
    "ts['period_start_dt'] = [ datetime.strptime(date, '%d%b%Y').toordinal() for date in ts['period_start_dt'] ]\n",
    "ts = ts.sort_values(by=['PRODUCT_ID', 'STORE_LOCATION_ID', 'period_start_dt'])\n",
    "ts = ts.groupby(['PRODUCT_ID', 'STORE_LOCATION_ID']).agg(\n",
    "    lambda x: list(x)[0] if np.unique(x).shape[0] == 1 else list(x) )\n",
    "\n",
    "base_algs = pd.read_csv('./EGG_BA_FCST.csv', encoding=\"cp1251\", sep=';',\n",
    "                        decimal=',', parse_dates=True, dayfirst=True)\n",
    "# parse dates\n",
    "base_algs['dt'] = [ datetime.strptime(date, '%d%b%Y').toordinal() for date in base_algs['dt'] ]\n",
    "base_algs = base_algs.sort_values(by=['PRODUCT_LVL_ID', 'STORE_LOCATION_LVL_ID', 'dt']).groupby(\n",
    "    ['PRODUCT_LVL_ID', 'STORE_LOCATION_LVL_ID']).agg(lambda x: list(x))\n",
    "\n",
    "prod_feat = list(ts.columns)\n",
    "prod_feat.remove('period_start_dt')\n",
    "prod_feat.remove('demand_qty')\n",
    "prod_feat"
   ]
  },
  {
   "cell_type": "code",
   "execution_count": null,
   "metadata": {},
   "outputs": [],
   "source": []
  },
  {
   "cell_type": "code",
   "execution_count": 25,
   "metadata": {},
   "outputs": [],
   "source": [
    "def arbitrating_composition(ts, base_algs, prod_feat, h, params ):\n",
    "    ''' Parameters:\n",
    "    ts <Pandas DataFrame> - data frame of time series with features (=prod_feat)\n",
    "    base_algs <Pandas DataFrame> - data frame of base algorithms answers\n",
    "    prod_feat <list of str> - features of product (don't include demand, date)\n",
    "    h <integer scalar> - forecasting delay\n",
    "    params <dict> - is not used\n",
    "    '''\n",
    "    base_algs_num = 3  # TODO: make it parameter\n",
    "    forecast = np.empty( (ts.shape[0], max(list(map(len, ts['period_start_dt']))) + h) )\n",
    "    forecast[:] = np.nan\n",
    "    \n",
    "    X_train, Y_train = None, None\n",
    "    rf = [ RandomForestRegressor() for _ in range(base_algs_num) ]  # random forest\n",
    "    le = [ (preprocessing.LabelEncoder()).fit(ts[pf]) for pf in prod_feat]\n",
    "    is_fitted = False\n",
    "    \n",
    "    print(f'Wait {len(ts)} iterations')\n",
    "    for ts_n, ((pr_id, st_id), _) in tqdm_notebook(enumerate(ts.iterrows()) ):\n",
    "        ba = base_algs.loc[pr_id, st_id]\n",
    "        x = ts.loc[pr_id, st_id]['demand_qty']\n",
    "        forecast_ba = np.array([ba['REGULAR'], ba['SAS_FAW'], ba['SAS_MINER'] ], dtype=np.float )\n",
    "        \n",
    "        step = 7  # TODO: make it parameter\n",
    "        k = 8  # size of sample for meta-learner TODO: make it parameter\n",
    "        \n",
    "        xx = sc.hankel( x[:-(k-1)], [-1]+list(x[-(k-1):]) )[:-h, :]\n",
    "        xx_f = np.array( [ le[j].transform([ts.loc[pr_id, st_id][prod_feat[j]] ]) for j in range(len(prod_feat)) ] )\n",
    "        xx = np.hstack( [xx, np.tile( xx_f.reshape(-1), (xx.shape[0], 1) ) ] )\n",
    "        \n",
    "        yy = np.vstack([ x[k-1+h:] for i in range(base_algs_num) ])\n",
    "        yy = np.abs(forecast_ba[:, k-1+h: k-1+h + yy.shape[1]] - yy )\n",
    "        for t in range( yy.shape[1] + k-1+h ):\n",
    "            if (t >= k-1+h) and (not np.isnan(yy[:, t-(k-1+h)]).any()) and is_fitted:\n",
    "                x_t = xx[t - (k-1+h)]\n",
    "                ans = [ rf[i].predict([x_t])[0] for i in range(len(rf)) ]\n",
    "                forecast[ts_n, t] = np.dot(softmax([ans])[0], forecast_ba[:, t])\n",
    "            if (t % step == 0) and (t != 0):\n",
    "                for rf_i in range(len(rf)):\n",
    "                    if X_train is None:\n",
    "                        batch_x, batch_y = xx[:t-(k-1+h)], yy[rf_i, :t-(k-1+h)]\n",
    "                    else:\n",
    "                        batch_x, batch_y = np.vstack( (X_train, xx[:t-(k-1+h)] )), np.append(Y_train[rf_i, :], yy[rf_i, :t-(k-1+h)])\n",
    "                    if batch_y.shape[0] != 0:\n",
    "                        rf[rf_i] = RandomForestRegressor()\n",
    "                        rf[rf_i].fit( batch_x, batch_y )\n",
    "                        is_fitted = True\n",
    "        if X_train is None:\n",
    "            X_train, Y_train = xx, yy\n",
    "        else:\n",
    "            X_train, Y_train = np.vstack( (X_train, xx) ), np.hstack( (Y_train, yy) )\n",
    "    return forecast"
   ]
  },
  {
   "cell_type": "code",
   "execution_count": null,
   "metadata": {},
   "outputs": [],
   "source": []
  },
  {
   "cell_type": "code",
   "execution_count": 28,
   "metadata": {},
   "outputs": [],
   "source": [
    "forecast = arbitrating_composition(ts, base_algs, prod_feat, 1, {})"
   ]
  },
  {
   "cell_type": "code",
   "execution_count": null,
   "metadata": {},
   "outputs": [],
   "source": []
  },
  {
   "cell_type": "code",
   "execution_count": 5,
   "metadata": {},
   "outputs": [],
   "source": [
    "#ts.iloc[9747] - три значения вр\n",
    "#ts[np.logical_and( (ts['PRODUCT_ID'] == 475861),ts['STORE_LOCATION_ID'] == 845840)]"
   ]
  },
  {
   "cell_type": "code",
   "execution_count": null,
   "metadata": {},
   "outputs": [],
   "source": []
  },
  {
   "cell_type": "code",
   "execution_count": 27,
   "metadata": {
    "scrolled": true
   },
   "outputs": [],
   "source": [
    "# forecast[ np.logical_not(np.isnan(forecast)) ].shape\n",
    "\n",
    "# for i, col in enumerate(ts.columns):\n",
    "#     ts[col].plot(figsize=(15,5), color='green', label='real')\n",
    "#     pd.Series(data=forecast[i, :-1], index=ts[col].index).plot(color='red', label='arbitrated')\n",
    "    \n",
    "#     plt.title(col)\n",
    "#     plt.legend()\n",
    "#     plt.show()"
   ]
  },
  {
   "cell_type": "code",
   "execution_count": null,
   "metadata": {},
   "outputs": [],
   "source": []
  }
 ],
 "metadata": {
  "kernelspec": {
   "display_name": "Python 3",
   "language": "python",
   "name": "python3"
  },
  "language_info": {
   "codemirror_mode": {
    "name": "ipython",
    "version": 3
   },
   "file_extension": ".py",
   "mimetype": "text/x-python",
   "name": "python",
   "nbconvert_exporter": "python",
   "pygments_lexer": "ipython3",
   "version": "3.6.3"
  }
 },
 "nbformat": 4,
 "nbformat_minor": 1
}
