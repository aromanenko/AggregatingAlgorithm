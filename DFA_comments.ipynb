{
 "cells": [
  {
   "cell_type": "code",
   "execution_count": 1,
   "id": "ba5efd61",
   "metadata": {},
   "outputs": [],
   "source": [
    "import numpy as np\n",
    "import pandas as pd\n",
    "from statsmodels.tsa.api import ExponentialSmoothing, SimpleExpSmoothing, Holt\n",
    "from statsmodels.tsa.arima.model import ARIMA\n",
    "from statsmodels.tsa.forecasting.theta import ThetaModel\n",
    "\n",
    "import matplotlib.pyplot as plt\n",
    "plt.style.use('fivethirtyeight')"
   ]
  },
  {
   "cell_type": "code",
   "execution_count": 2,
   "id": "c549eca4",
   "metadata": {},
   "outputs": [],
   "source": [
    "sunspot_ts = pd.read_csv('https://vincentarelbundock.github.io/Rdatasets/csv/datasets/sunspot.year.csv')\n",
    "sunspot_ts.index = sunspot_ts['time'].values\n",
    "sunspot_ts.drop(['Unnamed: 0', 'time'], axis=1, inplace=True)\n",
    "sunspot_ts.rename({'value': 'sunspot.year'}, axis=1, inplace=True)"
   ]
  },
  {
   "cell_type": "code",
   "execution_count": 3,
   "id": "3534a852",
   "metadata": {},
   "outputs": [],
   "source": [
    "energy_df = pd.read_csv('https://raw.githubusercontent.com/aromanenko/ATSF/main/data/energy_consumption.csv',\n",
    "                        sep=',', parse_dates=['Date'], dayfirst=False, index_col='Date')\n",
    "\n",
    "energy_df = energy_df[energy_df.id == 2]\n",
    "energy_df = energy_df['2010-01-01':'2015-05-13']\n",
    "energy_df.dropna(axis=1, inplace=True)\n",
    "\n",
    "energy_ts = energy_df.EnergyConsumption"
   ]
  },
  {
   "cell_type": "code",
   "execution_count": 4,
   "id": "09a3190c",
   "metadata": {},
   "outputs": [
    {
     "name": "stderr",
     "output_type": "stream",
     "text": [
      "C:\\Users\\rusrom.EUROPE\\Anaconda3\\lib\\site-packages\\statsmodels\\tsa\\holtwinters\\model.py:427: FutureWarning: After 0.13 initialization must be handled at model creation\n",
      "  warnings.warn(\n"
     ]
    },
    {
     "data": {
      "text/plain": [
       "array([169.00894991])"
      ]
     },
     "execution_count": 4,
     "metadata": {},
     "output_type": "execute_result"
    }
   ],
   "source": [
    "holt = Holt(sunspot_ts.values).fit()\n",
    "holt.predict(len(sunspot_ts.values), len(sunspot_ts.values))"
   ]
  },
  {
   "cell_type": "code",
   "execution_count": 5,
   "id": "95dc2a67",
   "metadata": {},
   "outputs": [],
   "source": [
    "def get_density_forecast(ts, horizon, base_alg, base_params={}, bins='auto', fittedvalues=False):\n",
    "    \"\"\"\n",
    "    Returns a list of density dictionaries {'bins': np.array, 'probs': np.array, 'dotted_forecast': float}.\n",
    "    \n",
    "    Parameters\n",
    "    ----------\n",
    "    ts : array_like\n",
    "        The time series to model.\n",
    "    horizon : int\n",
    "        The horizon to forecast.\n",
    "    base_alg : {ExponentialSmoothing, SimpleExpSmoothing, Holt}\n",
    "        The name of base algoritm for making density forecast.\n",
    "    base_params : dict\n",
    "        A Dictionary with base algorithm parameters.\n",
    "    bins: int or sequence of scalars or str, optional\n",
    "        Define how to calculate bins.\n",
    "    fittedvalues: bool\n",
    "        Include fitted values in density dictionaries or not.\n",
    "    \"\"\"\n",
    "    \n",
    "    # my experiment \n",
    "    if type(bins) == int:\n",
    "        min_bound = int(np.floor(min(ts)))\n",
    "        max_bound = int(np.ceil(max(ts)))\n",
    "        bins = np.linspace(min_bound, max_bound, bins + 1)\n",
    "        \n",
    "    \n",
    "    alg = base_alg(ts, **base_params).fit()\n",
    "    \n",
    "    if fittedvalues:\n",
    "        alg_preds = alg.predict(start=0, end=len(ts) + horizon - 1)\n",
    "        density_dicts = [{'bins': [], 'probs': [], 'dotted_forecast': None} for _ in range(len(ts) + horizon)]\n",
    "    else:\n",
    "        alg_preds = alg.predict(start=len(ts), end=len(ts) + horizon - 1)\n",
    "        density_dicts = [{'bins': [], 'probs': [], 'dotted_forecast': None} for _ in range(horizon)]\n",
    "    \n",
    "    for i in range(len(alg_preds)):\n",
    "        density_dicts[i]['dotted_forecast'] = alg_preds[i]\n",
    "        \n",
    "        current_density = alg.resid + alg_preds[i]\n",
    "        density_dicts[i]['probs'], density_dicts[i]['bins'] = np.histogram(current_density, bins=bins, density=True)\n",
    "    \n",
    "    return density_dicts"
   ]
  },
  {
   "cell_type": "code",
   "execution_count": 6,
   "id": "16f584a2",
   "metadata": {},
   "outputs": [],
   "source": [
    "def plot_density_forecast(ts, delay, base_alg, ax=None, **kwargs):\n",
    "        \n",
    "    density_dict = get_density_forecast(ts, delay, base_alg, **kwargs)[delay - 1]\n",
    "\n",
    "    left_edges = density_dict['bins'][:-1]\n",
    "\n",
    "    colors = []\n",
    "    for i in range(len(left_edges) - 1):\n",
    "        if left_edges[i] < density_dict['dotted_forecast'] < left_edges[i+1]:\n",
    "            colors.append('coral')\n",
    "        else:\n",
    "            colors.append('royalblue')\n",
    "    \n",
    "    alg_name = str(base_alg)[str(base_alg).find('model.') + 6:-2]\n",
    "    \n",
    "    if ax:\n",
    "        ax.bar(left_edges, density_dict['probs'], align='edge',\n",
    "               width=0.9*(left_edges[1] - left_edges[0]), color=colors)\n",
    "        ax.set_title(f'{alg_name}: density forecast with delay={delay}')\n",
    "    else:\n",
    "        plt.bar(left_edges, density_dict['probs'], align='edge',\n",
    "               width=0.9*(left_edges[1] - left_edges[0]), color=colors)\n",
    "        plt.title(f'{alg_name}: density forecast with delay={delay}')"
   ]
  },
  {
   "cell_type": "code",
   "execution_count": 7,
   "id": "83b95e2e",
   "metadata": {},
   "outputs": [
    {
     "data": {
      "image/png": "[encoded data removed]",
      "text/plain": [
       "<Figure size 1080x1152 with 4 Axes>"
      ]
     },
     "metadata": {},
     "output_type": "display_data"
    }
   ],
   "source": [
    "fig, ax = plt.subplots(4, figsize=(15,16))\n",
    "\n",
    "for i, alg in enumerate([ExponentialSmoothing, SimpleExpSmoothing, Holt, ARIMA]):\n",
    "    plot_density_forecast(sunspot_ts.values, 1, alg, ax=ax[i], bins='auto')"
   ]
  },
  {
   "cell_type": "code",
   "execution_count": 8,
   "id": "0b610f84",
   "metadata": {},
   "outputs": [
    {
     "data": {
      "image/png": "[encoded data removed]",
      "text/plain": [
       "<Figure size 1080x360 with 1 Axes>"
      ]
     },
     "metadata": {},
     "output_type": "display_data"
    }
   ],
   "source": [
    "plt.figure(figsize=(15,5))\n",
    "plot_density_forecast(sunspot_ts.values, 1, ARIMA, base_params={'order': (1, 2, 0)}, bins=10)"
   ]
  },
  {
   "cell_type": "code",
   "execution_count": 10,
   "id": "a0039945",
   "metadata": {},
   "outputs": [],
   "source": [
    "def brier_loss(y_true, density_dicts):\n",
    "    \"\"\"\n",
    "    Returns np.array of brier scores.\n",
    "    \n",
    "    Parameters\n",
    "    ----------\n",
    "    y_true : float\n",
    "        A true value.\n",
    "    density_dicts : dict or array-like of dicts\n",
    "        Dicts with bins and probabilities information.\n",
    "    \"\"\"\n",
    "    T = len(ts)\n",
    "    if type(density_dicts) == dict:\n",
    "        density_dicts = [density_dicts]\n",
    "#     Вынести лишний циклы в функции get_generalaized_loss / get_generalaized_loss\n",
    "    brier_losses = [np.nan] * len(density_dicts)\n",
    "    \n",
    "    for density_dict_count, density_dict in enumerate(density_dicts):\n",
    "        bins_number = density_dict['probs'].size\n",
    "        bins_true = [0] * bins_number\n",
    "\n",
    "        for i in range(bins_number):\n",
    "            if density_dict['bins'][i] <= y_true <= density_dict['bins'][i + 1]:\n",
    "                bins_true[i] = 1\n",
    "\n",
    "#         if np.sum(bins_true) == 0:\n",
    "#             raise NotImplementedError('The y_true outside the range of bins boundaries')\n",
    "# ок ли так же считать, если реальное значение не входит в прогнозные бины?\n",
    "            \n",
    "        brier_losses[density_dict_count] = np.sum(tbd* (density_dict['probs'] - bins_true)**2)\n",
    "        \n",
    "    return np.array(brier_losses)"
   ]
  },
  {
   "cell_type": "code",
   "execution_count": 11,
   "id": "987b50ed",
   "metadata": {},
   "outputs": [],
   "source": [
    "def avoid_overflowing(base, power_array):\n",
    "    maximum = np.max(power_array)\n",
    "    minimum = np.min(power_array)\n",
    "    \n",
    "    pmax = -np.log(base)/np.log(2) * maximum\n",
    "    pmin = -np.log(base)/np.log(2) * minimum\n",
    "    \n",
    "    if np.abs(pmax-pmin) > 2097:\n",
    "        print('Overflow is imminent. Further calculations are not advised')\n",
    "        return base ** power_array\n",
    "    power_shift = abs((51+pmin+pmax)/2)\n",
    "    power_shift = power_shift + min(0, pmin - power_shift + 1023)\n",
    "    \n",
    "    power_array = power_array - np.abs(power_shift * np.log(2) / np.log(base))\n",
    "    \n",
    "    return base ** power_array"
   ]
  },
  {
   "cell_type": "code",
   "execution_count": 31,
   "id": "6c891fac",
   "metadata": {},
   "outputs": [],
   "source": [
    "def get_generalized_prediction(ts, preds, weights, loss_function, eta=1):\n",
    "    generalized_predictions = []\n",
    "    \n",
    "    # my experiment \n",
    "    min_w = (preds[0]['bins'][0] + preds[0]['bins'][1]) / 2\n",
    "    max_w = (preds[0]['bins'][-2] + preds[0]['bins'][-1]) / 2\n",
    "\n",
    "    \n",
    "#     min_w = int(np.floor(min(ts)))\n",
    "#     max_w = int(np.ceil(max(ts)))\n",
    "    \n",
    "    for w in np.linspace(min_w, max_w, preds[0]['bins'].size - 1):\n",
    "        losses = loss_function(w, preds)\n",
    "        print(losses)\n",
    "        exp_losses = avoid_overflowing(np.e, -eta * losses)\n",
    "        generalized_predictions.append(-(1 / eta) * np.log(np.sum(weights * exp_losses)))\n",
    "        \n",
    "    return np.array(generalized_predictions)"
   ]
  },
  {
   "cell_type": "code",
   "execution_count": 32,
   "id": "1ad7f4c9",
   "metadata": {},
   "outputs": [
    {
     "name": "stdout",
     "output_type": "stream",
     "text": [
      "[0.93043565 0.92672353]\n",
      "[0.94140027 0.95915049]\n",
      "[0.96004011 0.9659061 ]\n",
      "[0.98745163 0.98617295]\n",
      "[0.99183748 0.9888752 ]\n",
      "[0.99951271 0.99292857]\n",
      "[1.00060917 0.99833306]\n",
      "[1.00280209 0.99427969]\n",
      "[1.00170563 1.00103531]\n",
      "[1.00280209 1.00238643]\n",
      "[1.00280209 1.00238643]\n",
      "[1.00280209 1.00103531]\n",
      "[1.00280209 1.00238643]\n",
      "[1.00280209 1.00238643]\n",
      "[1.00280209 1.00238643]\n",
      "[1.00280209 1.00238643]\n",
      "[1.00280209 1.00238643]\n",
      "[1.00280209 1.00238643]\n",
      "[1.00280209 1.00238643]\n",
      "[1.00280209 1.00238643]\n"
     ]
    },
    {
     "data": {
      "text/plain": [
       "array([19.53241057, 19.57576448, 19.60119501, 19.64887749, 19.65596468,\n",
       "       19.66768896, 19.67419468, 19.67232581, 19.67799398, 19.6804416 ,\n",
       "       19.6804416 , 19.67909011, 19.6804416 , 19.6804416 , 19.6804416 ,\n",
       "       19.6804416 , 19.6804416 , 19.6804416 , 19.6804416 , 19.6804416 ])"
      ]
     },
     "execution_count": 32,
     "metadata": {},
     "output_type": "execute_result"
    }
   ],
   "source": [
    "losses = brier_loss(20, BA_preds[:, 0])\n",
    "weights = np.full(2, 1/2)\n",
    "# losses, weights\n",
    "\n",
    "generalized_predictions = get_generalized_prediction(ts, BA_preds[:, 0], weights, brier_loss, eta=1)\n",
    "generalized_predictions"
   ]
  },
  {
   "cell_type": "code",
   "execution_count": 51,
   "id": "d33b19eb",
   "metadata": {},
   "outputs": [],
   "source": [
    "from scipy.optimize import fsolve\n",
    "\n",
    "def s_equation(s, generalized_predictions, m = 2):\n",
    "#     x = s - generalized_predictions\n",
    "#     for i in range(len(x)):\n",
    "#         x[i] = max(x[i], 0)\n",
    "    return np.sum([max(i,0) for i in s - generalized_predictions]) - m"
   ]
  },
  {
   "cell_type": "code",
   "execution_count": 38,
   "id": "218c9c7f",
   "metadata": {},
   "outputs": [],
   "source": [
    "def substitution_function(generalized_predictions, s):\n",
    "#     real_predictions = \n",
    "#     for prediction in real_predictions:\n",
    "#         prediction = max(prediction, 0) / 2\n",
    "#     return real_predictions\n",
    "    return [max(i,0)/2 for i in s - generalized_predictions]"
   ]
  },
  {
   "cell_type": "code",
   "execution_count": 16,
   "id": "4c4326a3",
   "metadata": {},
   "outputs": [],
   "source": [
    "def update_weights(weights, losses, eta=1):\n",
    "    exp_losses = avoid_overflowing(np.e, -eta * losses)\n",
    "    new_weights = weights * exp_losses\n",
    "    return new_weights / (np.sum(new_weights))"
   ]
  },
  {
   "cell_type": "code",
   "execution_count": 53,
   "id": "65ba096a",
   "metadata": {},
   "outputs": [
    {
     "ename": "TypeError",
     "evalue": "fsolve() got an unexpected keyword argument 'm'",
     "output_type": "error",
     "traceback": [
      "\u001b[1;31m---------------------------------------------------------------------------\u001b[0m",
      "\u001b[1;31mTypeError\u001b[0m                                 Traceback (most recent call last)",
      "\u001b[1;32m<ipython-input-53-5745ecaf388e>\u001b[0m in \u001b[0;36m<module>\u001b[1;34m\u001b[0m\n\u001b[0;32m      1\u001b[0m \u001b[0mgeneralized_predictions\u001b[0m \u001b[1;33m=\u001b[0m \u001b[0mnp\u001b[0m\u001b[1;33m.\u001b[0m\u001b[0mlinspace\u001b[0m\u001b[1;33m(\u001b[0m\u001b[1;36m1\u001b[0m\u001b[1;33m,\u001b[0m \u001b[1;36m1000\u001b[0m\u001b[1;33m,\u001b[0m \u001b[1;36m1000\u001b[0m\u001b[1;33m)\u001b[0m\u001b[1;33m/\u001b[0m\u001b[0mnp\u001b[0m\u001b[1;33m.\u001b[0m\u001b[0mpi\u001b[0m\u001b[1;33m\u001b[0m\u001b[1;33m\u001b[0m\u001b[0m\n\u001b[1;32m----> 2\u001b[1;33m \u001b[0mans\u001b[0m \u001b[1;33m=\u001b[0m \u001b[0mfsolve\u001b[0m\u001b[1;33m(\u001b[0m\u001b[0ms_equation\u001b[0m\u001b[1;33m,\u001b[0m \u001b[0mmax\u001b[0m\u001b[1;33m(\u001b[0m\u001b[0mgeneralized_predictions\u001b[0m\u001b[1;33m)\u001b[0m\u001b[1;33m,\u001b[0m \u001b[0margs\u001b[0m\u001b[1;33m=\u001b[0m\u001b[0mgeneralized_predictions\u001b[0m\u001b[1;33m,\u001b[0m \u001b[0mm\u001b[0m \u001b[1;33m=\u001b[0m \u001b[1;36m10\u001b[0m\u001b[1;33m)\u001b[0m\u001b[1;33m\u001b[0m\u001b[1;33m\u001b[0m\u001b[0m\n\u001b[0m\u001b[0;32m      3\u001b[0m \u001b[0ms_equation\u001b[0m\u001b[1;33m(\u001b[0m\u001b[0mans\u001b[0m\u001b[1;33m,\u001b[0m \u001b[0mgeneralized_predictions\u001b[0m\u001b[1;33m,\u001b[0m \u001b[0mm\u001b[0m \u001b[1;33m=\u001b[0m \u001b[1;36m10\u001b[0m\u001b[1;33m)\u001b[0m\u001b[1;33m\u001b[0m\u001b[1;33m\u001b[0m\u001b[0m\n",
      "\u001b[1;31mTypeError\u001b[0m: fsolve() got an unexpected keyword argument 'm'"
     ]
    }
   ],
   "source": [
    "generalized_predictions = np.linspace(1, 1000, 1000)/np.pi\n",
    "ans = fsolve(s_equation, max(generalized_predictions), args=generalized_predictions, m = 10)\n",
    "s_equation(ans, generalized_predictions, m = 10)"
   ]
  },
  {
   "cell_type": "code",
   "execution_count": 17,
   "id": "fd4bb2da",
   "metadata": {},
   "outputs": [],
   "source": [
    "def aggregating_algorithm(ts, delay, base_alg_dict, loss_function=brier_loss, weights=None, eta=1):\n",
    "    \"\"\"\n",
    "    Returns density dictionary {'bins': np.array, 'probs': np.array, 'dotted_forecast': float}.\n",
    "    \n",
    "    Parameters\n",
    "    ----------\n",
    "    ts : array_like\n",
    "        The time series to model.\n",
    "    delay : int\n",
    "        The delay to forecast.\n",
    "    base_alg_dict : dict\n",
    "        The dictionary with the names of base algoritms and their params:\n",
    "        base_alg {ExponentialSmoothing, SimpleExpSmoothing, Holt} - name of base algorithm.\n",
    "        base_alg_params : dict - a dictionary of base algorithm's parameters.\n",
    "    loss_function : function\n",
    "        The loss function of aggregating algorithm.\n",
    "    \"\"\"\n",
    "    T = len(ts)\n",
    "    K = len(base_alg_dict)\n",
    "    \n",
    "    AA_preds = [{}] * (T + delay)\n",
    "    BA_preds = np.array([{}] * (T + delay) * K).reshape(K, T + delay) \n",
    "    \n",
    "    if not weights:\n",
    "        weights = np.full(K, 1/K)\n",
    "    \n",
    "    i = 0\n",
    "    for base_alg, base_alg_params in base_alg_dict.items():\n",
    "        BA_preds[i] = get_density_forecast(ts, delay, base_alg, base_params=base_alg_params, fittedvalues=True)\n",
    "        i += 1\n",
    "        \n",
    "    losses, prev_losses = None, None\n",
    "        \n",
    "    for t in range(T):\n",
    "        preds = BA_preds[:, t]\n",
    "        \n",
    "        if not prev_losses:     \n",
    "            prev_losses = loss_function(ts[t], preds)  # cheat\n",
    "         \n",
    "        # TBD: Рассчитать Omega (включая на базе ts и прогнозов BA)\n",
    "        # TBD: обеспечить, что все BA имеют одинаковую Omega\n",
    "        # TBD: Omega может динамически менять (расти)         \n",
    "        generalized_predictions = get_generalized_prediction(ts[:t], preds, weights, loss_function, eta)\n",
    "        \n",
    "        #solving the equation to find s\n",
    "        s_init = np.max(generalized_predictions)\n",
    "        s = fsolve(s_equation, s_init, args=generalized_predictions)\n",
    "        \n",
    "        #get real prediction with substitution function\n",
    "        AA_preds[t]['bins'] = BA_preds[:, t][0]['bins']\n",
    "        AA_preds[t]['probs']  = substitution_function(generalized_predictions, s)\n",
    "        \n",
    "        #update weights \n",
    "        losses = loss_function(ts[t], preds)\n",
    "        weights = update_weights(weights, losses, eta)\n",
    "        \n",
    "        prev_losses = losses\n",
    "        \n",
    "    # forecast for delay\n",
    "    \n",
    "    return AA_preds"
   ]
  },
  {
   "cell_type": "code",
   "execution_count": 18,
   "id": "b261d829",
   "metadata": {},
   "outputs": [
    {
     "name": "stderr",
     "output_type": "stream",
     "text": [
      "C:\\Users\\rusrom.EUROPE\\Anaconda3\\lib\\site-packages\\numpy\\lib\\histograms.py:905: RuntimeWarning: invalid value encountered in true_divide\n",
      "  return n/db/n.sum(), bin_edges\n"
     ]
    }
   ],
   "source": [
    "T = sunspot_ts.size\n",
    "ts = sunspot_ts.values\n",
    "delay = 3\n",
    "K = 2\n",
    "\n",
    "BA_preds = np.array([{}]*(T + delay)*K).reshape(K, T + delay) \n",
    "\n",
    "i = 0\n",
    "for base_alg, base_alg_params in {Holt: {}, SimpleExpSmoothing: {}}.items():\n",
    "    BA_preds[i] = get_density_forecast(ts, delay, base_alg, base_params=base_alg_params, bins=20, fittedvalues=True)\n",
    "    i += 1"
   ]
  },
  {
   "cell_type": "code",
   "execution_count": 20,
   "id": "c6e30f26",
   "metadata": {},
   "outputs": [
    {
     "data": {
      "text/plain": [
       "array([0.03618322, 0.03070091, 0.02138099, 0.00767523, 0.00548231,\n",
       "       0.00164469, 0.00109646, 0.        , 0.00054823, 0.        ,\n",
       "       0.        , 0.        , 0.        , 0.        , 0.        ,\n",
       "       0.        , 0.        , 0.        , 0.        , 0.        ])"
      ]
     },
     "execution_count": 20,
     "metadata": {},
     "output_type": "execute_result"
    }
   ],
   "source": [
    "BA_preds[:, 0][0]['probs']"
   ]
  },
  {
   "cell_type": "code",
   "execution_count": 21,
   "id": "5456f33f",
   "metadata": {},
   "outputs": [
    {
     "data": {
      "text/plain": [
       "(array([0.96004011, 0.9659061 ]), array([0.5, 0.5]))"
      ]
     },
     "execution_count": 21,
     "metadata": {},
     "output_type": "execute_result"
    }
   ],
   "source": [
    "losses = brier_loss(20, BA_preds[:, 0])\n",
    "weights = np.full(2, 1/2)\n",
    "losses, weights"
   ]
  },
  {
   "cell_type": "code",
   "execution_count": 26,
   "id": "74b99188",
   "metadata": {},
   "outputs": [
    {
     "data": {
      "text/plain": [
       "0.10471204188481675"
      ]
     },
     "execution_count": 26,
     "metadata": {},
     "output_type": "execute_result"
    }
   ],
   "source": [
    "BA_preds[:, 0][1]"
   ]
  },
  {
   "cell_type": "code",
   "execution_count": 22,
   "id": "c62cc582",
   "metadata": {},
   "outputs": [
    {
     "data": {
      "text/plain": [
       "array([19.53241057, 19.57576448, 19.60119501, 19.64887749, 19.65596468,\n",
       "       19.66768896, 19.67419468, 19.67232581, 19.67799398, 19.6804416 ,\n",
       "       19.6804416 , 19.67909011, 19.6804416 , 19.6804416 , 19.6804416 ,\n",
       "       19.6804416 , 19.6804416 , 19.6804416 , 19.6804416 , 19.6804416 ])"
      ]
     },
     "execution_count": 22,
     "metadata": {},
     "output_type": "execute_result"
    }
   ],
   "source": [
    "losses = brier_loss(20, BA_preds[:, 0])\n",
    "weights = np.full(2, 1/2)\n",
    "losses, weights\n",
    "\n",
    "generalized_predictions = get_generalized_prediction(ts, BA_preds[:, 0], weights, brier_loss, eta=1)\n",
    "generalized_predictions"
   ]
  },
  {
   "cell_type": "code",
   "execution_count": 33,
   "id": "5df74613",
   "metadata": {},
   "outputs": [
    {
     "data": {
      "text/plain": [
       "array([19.75949609])"
      ]
     },
     "execution_count": 33,
     "metadata": {},
     "output_type": "execute_result"
    }
   ],
   "source": [
    "s_init = np.max(generalized_predictions)\n",
    "s = fsolve(s_equation, s_init, args=generalized_predictions)\n",
    "s"
   ]
  },
  {
   "cell_type": "code",
   "execution_count": 39,
   "id": "2d37321d",
   "metadata": {},
   "outputs": [
    {
     "data": {
      "text/plain": [
       "[0.11354276020479048,\n",
       " 0.09186580729929439,\n",
       " 0.07915053851266762,\n",
       " 0.05530930203040718,\n",
       " 0.051765702821043647,\n",
       " 0.04590356502118986,\n",
       " 0.042650702558615805,\n",
       " 0.04358514172006167,\n",
       " 0.040751053143196714,\n",
       " 0.03952724371191252,\n",
       " 0.03952724371191252,\n",
       " 0.040202989569589676,\n",
       " 0.03952724371191252,\n",
       " 0.03952724371191252,\n",
       " 0.03952724371191252,\n",
       " 0.03952724371191252,\n",
       " 0.03952724371191252,\n",
       " 0.03952724371191252,\n",
       " 0.03952724371191252,\n",
       " 0.03952724371191252]"
      ]
     },
     "execution_count": 39,
     "metadata": {},
     "output_type": "execute_result"
    }
   ],
   "source": [
    "pr = substitution_function(generalized_predictions, s)\n",
    "pr"
   ]
  },
  {
   "cell_type": "code",
   "execution_count": 26,
   "id": "3e954c90",
   "metadata": {},
   "outputs": [
    {
     "data": {
      "text/plain": [
       "9.550000000000242"
      ]
     },
     "execution_count": 26,
     "metadata": {},
     "output_type": "execute_result"
    }
   ],
   "source": [
    "np.sum(BA_preds[:, 0][0]['bins'][1] * pr)"
   ]
  },
  {
   "cell_type": "code",
   "execution_count": 40,
   "id": "350a5a90",
   "metadata": {},
   "outputs": [
    {
     "data": {
      "text/plain": [
       "0.9999999999999822"
      ]
     },
     "execution_count": 40,
     "metadata": {},
     "output_type": "execute_result"
    }
   ],
   "source": [
    "sum(pr)"
   ]
  }
 ],
 "metadata": {
  "kernelspec": {
   "display_name": "Python 3",
   "language": "python",
   "name": "python3"
  },
  "language_info": {
   "codemirror_mode": {
    "name": "ipython",
    "version": 3
   },
   "file_extension": ".py",
   "mimetype": "text/x-python",
   "name": "python",
   "nbconvert_exporter": "python",
   "pygments_lexer": "ipython3",
   "version": "3.8.8"
  }
 },
 "nbformat": 4,
 "nbformat_minor": 5
}
