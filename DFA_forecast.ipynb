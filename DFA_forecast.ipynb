{
 "cells": [
  {
   "cell_type": "code",
   "execution_count": 12,
   "id": "70df17d1",
   "metadata": {
    "collapsed": true
   },
   "outputs": [
    {
     "name": "stdout",
     "output_type": "stream",
     "text": [
      "Collecting ipynb\n",
      "  Downloading ipynb-0.5.1-py3-none-any.whl (6.9 kB)\n",
      "Installing collected packages: ipynb\n",
      "Successfully installed ipynb-0.5.1\n"
     ]
    }
   ],
   "source": [
    "# ! pip install ipynb"
   ]
  },
  {
   "cell_type": "code",
   "execution_count": 1,
   "id": "61cd794e",
   "metadata": {},
   "outputs": [],
   "source": [
    "import import_ipynb\n",
    "import numpy as np\n",
    "import pandas as pd\n",
    "from statsmodels.tsa.api import ExponentialSmoothing, SimpleExpSmoothing, Holt\n",
    "from statsmodels.tsa.arima.model import ARIMA\n",
    "from statsmodels.tsa.forecasting.theta import ThetaModel\n",
    "from scipy.optimize import fsolve\n",
    "from scipy.special import rel_entr, kl_div\n",
    "from tqdm.notebook import tqdm\n",
    "\n",
    "import matplotlib.pyplot as plt\n",
    "plt.style.use('fivethirtyeight')\n",
    "\n",
    "import warnings\n",
    "warnings.filterwarnings('ignore')"
   ]
  },
  {
   "cell_type": "code",
   "execution_count": 2,
   "id": "3bfd199b",
   "metadata": {},
   "outputs": [],
   "source": [
    "from ipynb.fs.full.DFA_func import plot_density_forecast, aggregating_algorithm"
   ]
  },
  {
   "cell_type": "code",
   "execution_count": 3,
   "id": "0c83534f",
   "metadata": {},
   "outputs": [],
   "source": [
    "sunspot_ts = pd.read_csv('https://vincentarelbundock.github.io/Rdatasets/csv/datasets/sunspot.year.csv')\n",
    "sunspot_ts.index = sunspot_ts['time'].values\n",
    "sunspot_ts.drop(['Unnamed: 0', 'time'], axis=1, inplace=True)\n",
    "sunspot_ts.rename({'value': 'sunspot.year'}, axis=1, inplace=True)"
   ]
  },
  {
   "cell_type": "code",
   "execution_count": 4,
   "id": "d284285e",
   "metadata": {},
   "outputs": [],
   "source": [
    "wage = pd.read_csv('https://raw.githubusercontent.com/aromanenko/ATSF/main/data/monthly-wage.csv', sep=';', index_col= 0, parse_dates=True)\n",
    "wage_ts = wage.astype(int)"
   ]
  },
  {
   "cell_type": "code",
   "execution_count": 5,
   "id": "e5de8a5c",
   "metadata": {},
   "outputs": [],
   "source": [
    "energy_df = pd.read_csv('https://raw.githubusercontent.com/aromanenko/ATSF/main/data/energy_consumption.csv',\n",
    "                        sep=',', parse_dates=['Date'], dayfirst=False, index_col='Date')\n",
    "\n",
    "energy_df = energy_df[energy_df.id == 2]\n",
    "energy_df = energy_df['2010-01-01':'2015-05-13']\n",
    "energy_df.dropna(axis=1, inplace=True)\n",
    "\n",
    "energy_ts = energy_df.EnergyConsumption.astype(int)"
   ]
  },
  {
   "cell_type": "markdown",
   "id": "7bffb614",
   "metadata": {},
   "source": [
    "## Подбор базовых алгоритмов и построение на их основе агрегирующего"
   ]
  },
  {
   "cell_type": "markdown",
   "id": "134a0638",
   "metadata": {},
   "source": [
    "Данные надо будет разбить на трейн и тест или кросс-валидации всё смотреть.\n",
    "\n",
    "Всего будет 5 базовых алгоритмов: SES, 3 ES (trend, seasonality etc.), ARIMA\n"
   ]
  },
  {
   "cell_type": "markdown",
   "id": "079ff142",
   "metadata": {},
   "source": [
    "### Подбор оптимальных гиперпараметров для базовых моделей"
   ]
  },
  {
   "cell_type": "code",
   "execution_count": null,
   "id": "37241aba",
   "metadata": {},
   "outputs": [],
   "source": []
  },
  {
   "cell_type": "markdown",
   "id": "b72fd38b",
   "metadata": {},
   "source": [
    "### Построение агрегирующего алгоритма\n",
    "\n",
    "Подбор оптимального гиперпараметра m, выбор omega_mode\n",
    "\n",
    "Здесь можно нарисовать графики с различными m и omega_mode. Также попробовать разные p и дли них изобразить графики."
   ]
  },
  {
   "cell_type": "code",
   "execution_count": 6,
   "id": "8e350112",
   "metadata": {},
   "outputs": [
    {
     "data": {
      "application/vnd.jupyter.widget-view+json": {
       "model_id": "131b69c776ad4041b4ff09e29b18a6a0",
       "version_major": 2,
       "version_minor": 0
      },
      "text/plain": [
       "  0%|          | 0/292 [00:00<?, ?it/s]"
      ]
     },
     "metadata": {},
     "output_type": "display_data"
    }
   ],
   "source": [
    "AA_preds = aggregating_algorithm(sunspot_ts, 3, {Holt: {}, SimpleExpSmoothing: {}, ARIMA: {'order': (1, 2, 0)}},\n",
    "                                 bins=10, omega_mode=\"mean\")"
   ]
  },
  {
   "cell_type": "markdown",
   "id": "0115e5c5",
   "metadata": {},
   "source": [
    "### Анализ результатов (AA vs Base Algorithms, AA vs Theoretical Boundary of Loss function)\n",
    "\n",
    "Не уверен здесь насчёт Theoretical Boundary, пока не получаются с этим графики"
   ]
  },
  {
   "cell_type": "code",
   "execution_count": null,
   "id": "31ff8fb6",
   "metadata": {},
   "outputs": [],
   "source": []
  },
  {
   "cell_type": "markdown",
   "id": "2de84cdc",
   "metadata": {},
   "source": [
    "###  Возможно сравнение с другими методами композиции алгоритмов (Adaptive Selection and Adaptive Combination)"
   ]
  },
  {
   "cell_type": "code",
   "execution_count": null,
   "id": "55c0a18e",
   "metadata": {},
   "outputs": [],
   "source": []
  }
 ],
 "metadata": {
  "kernelspec": {
   "display_name": "Python 3 (ipykernel)",
   "language": "python",
   "name": "python3"
  },
  "language_info": {
   "codemirror_mode": {
    "name": "ipython",
    "version": 3
   },
   "file_extension": ".py",
   "mimetype": "text/x-python",
   "name": "python",
   "nbconvert_exporter": "python",
   "pygments_lexer": "ipython3",
   "version": "3.8.10"
  }
 },
 "nbformat": 4,
 "nbformat_minor": 5
}
